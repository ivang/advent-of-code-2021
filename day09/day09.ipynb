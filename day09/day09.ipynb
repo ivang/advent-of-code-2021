{
 "cells": [
  {
   "cell_type": "code",
   "execution_count": null,
   "id": "78a43848",
   "metadata": {},
   "outputs": [],
   "source": [
    "from itertools import permutations\n",
    "from functools import reduce"
   ]
  },
  {
   "cell_type": "code",
   "execution_count": null,
   "id": "9047e3f9",
   "metadata": {},
   "outputs": [],
   "source": [
    "with open(\"input\", \"r\") as f:\n",
    "    heightmap = [[int(tile) for tile in row.strip()] for row in f.readlines()]"
   ]
  },
  {
   "cell_type": "code",
   "execution_count": null,
   "id": "ba7eec8e",
   "metadata": {},
   "outputs": [],
   "source": [
    "def is_within_bounds(point, bounds):\n",
    "    x, y = point\n",
    "    x_bounds, y_bounds = bounds\n",
    "    return x_bounds[0] <= x <= x_bounds[1] and y_bounds[0] <= y <= y_bounds[1]"
   ]
  },
  {
   "cell_type": "code",
   "execution_count": null,
   "id": "0a91ce9a",
   "metadata": {},
   "outputs": [],
   "source": [
    "bounds = [[0, len(heightmap) - 1],\n",
    "          [0, len(heightmap[0]) - 1]]\n",
    "low_points = []"
   ]
  },
  {
   "cell_type": "markdown",
   "id": "56f7a066",
   "metadata": {},
   "source": [
    "### Part 1"
   ]
  },
  {
   "cell_type": "code",
   "execution_count": null,
   "id": "8762ac2e",
   "metadata": {},
   "outputs": [],
   "source": [
    "for i, row in enumerate(heightmap):\n",
    "    for j, tile in enumerate(row):\n",
    "        neighbours = []\n",
    "        for i0, j0 in permutations((-1, 0, 1), 2):\n",
    "            if abs(i0) != abs(j0) and is_within_bounds((i + i0, j + j0), bounds):\n",
    "                neighbours.append(heightmap[i + i0][j + j0])\n",
    "        if all(tile < neighbour for neighbour in neighbours):\n",
    "            low_points.append((i, j))"
   ]
  },
  {
   "cell_type": "code",
   "execution_count": null,
   "id": "90ceb231",
   "metadata": {},
   "outputs": [],
   "source": [
    "sum(heightmap[x][y] + 1 for x, y in low_points)"
   ]
  },
  {
   "cell_type": "markdown",
   "id": "1a1308ac",
   "metadata": {},
   "source": [
    "### Part 2"
   ]
  },
  {
   "cell_type": "code",
   "execution_count": null,
   "id": "8839c3e8",
   "metadata": {},
   "outputs": [],
   "source": [
    "visited = {}\n",
    "\n",
    "def basin(heightmap, coords):\n",
    "    visited[coords] = True\n",
    "    x, y = coords\n",
    "\n",
    "    if not is_within_bounds(coords, bounds) or heightmap[x][y] == 9:\n",
    "        return 0\n",
    "    \n",
    "    new_coords = [(x + x0, y + y0) for x0, y0 in permutations((-1, 0, 1), 2)\n",
    "                  if abs(x0) != abs(y0) and (x + x0, y + y0) not in visited]\n",
    "    for coords in new_coords:\n",
    "        visited[coords] = True\n",
    "   \n",
    "    return sum(basin(heightmap, coords) for coords in new_coords) + 1"
   ]
  },
  {
   "cell_type": "code",
   "execution_count": null,
   "id": "45dde281",
   "metadata": {},
   "outputs": [],
   "source": [
    "basin_sizes = [basin(heightmap, low_point) for low_point in low_points]\n",
    "\n",
    "reduce(lambda x, y: x * y, sorted(basin_sizes, reverse=True)[:3])"
   ]
  }
 ],
 "metadata": {
  "kernelspec": {
   "display_name": "Python 3",
   "language": "python",
   "name": "python3"
  },
  "language_info": {
   "codemirror_mode": {
    "name": "ipython",
    "version": 3
   },
   "file_extension": ".py",
   "mimetype": "text/x-python",
   "name": "python",
   "nbconvert_exporter": "python",
   "pygments_lexer": "ipython3",
   "version": "3.7.9"
  }
 },
 "nbformat": 4,
 "nbformat_minor": 5
}
