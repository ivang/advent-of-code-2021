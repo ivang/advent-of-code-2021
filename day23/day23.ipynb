{
 "cells": [
  {
   "cell_type": "code",
   "execution_count": 1,
   "id": "751ac33f",
   "metadata": {},
   "outputs": [],
   "source": [
    "from copy import copy, deepcopy"
   ]
  },
  {
   "cell_type": "code",
   "execution_count": 2,
   "id": "ae82ea89",
   "metadata": {},
   "outputs": [],
   "source": [
    "AMPHIPODS_PER_TYPE=4\n",
    "\n",
    "hole_coords = {coord: owner for coord, owner in zip(range(2, 9, 2), 'ABCD')}\n",
    "\n",
    "with open(\"input2\", \"r\") as f:\n",
    "    f.readline()\n",
    "    hallway = list(f.readline()[1:12])\n",
    "    amphis = [[line[coord + 1] for coord in hole_coords]\n",
    "              for line in f.readlines()\n",
    "              if line[3] != \"#\"]"
   ]
  },
  {
   "cell_type": "code",
   "execution_count": 3,
   "id": "81ee2662",
   "metadata": {},
   "outputs": [
    {
     "data": {
      "text/plain": [
       "['.', '.', '.', '.', '.', '.', '.', '.', '.', '.', '.']"
      ]
     },
     "execution_count": 3,
     "metadata": {},
     "output_type": "execute_result"
    }
   ],
   "source": [
    "hallway"
   ]
  },
  {
   "cell_type": "code",
   "execution_count": 4,
   "id": "bf991365",
   "metadata": {},
   "outputs": [
    {
     "data": {
      "text/plain": [
       "{2: 'A', 4: 'B', 6: 'C', 8: 'D'}"
      ]
     },
     "execution_count": 4,
     "metadata": {},
     "output_type": "execute_result"
    }
   ],
   "source": [
    "hole_coords"
   ]
  },
  {
   "cell_type": "code",
   "execution_count": 5,
   "id": "dcdcd54a",
   "metadata": {},
   "outputs": [
    {
     "data": {
      "text/plain": [
       "{2: ['C', 'D', 'D', 'A'],\n",
       " 4: ['D', 'B', 'C', 'D'],\n",
       " 6: ['B', 'A', 'B', 'C'],\n",
       " 8: ['B', 'C', 'A', 'A']}"
      ]
     },
     "execution_count": 5,
     "metadata": {},
     "output_type": "execute_result"
    }
   ],
   "source": [
    "holes = {label: list(amphi[::-1]) for label, amphi in zip(hole_coords, zip(*amphis))}\n",
    "holes"
   ]
  },
  {
   "cell_type": "code",
   "execution_count": 6,
   "id": "e6047565",
   "metadata": {},
   "outputs": [
    {
     "data": {
      "text/plain": [
       "{'A': 1, 'B': 10, 'C': 100, 'D': 1000}"
      ]
     },
     "execution_count": 6,
     "metadata": {},
     "output_type": "execute_result"
    }
   ],
   "source": [
    "move_price = {a: 10**n for a, n in zip(\"ABCD\", range(4))}\n",
    "move_price"
   ]
  },
  {
   "cell_type": "code",
   "execution_count": 7,
   "id": "3efcf3c9",
   "metadata": {},
   "outputs": [
    {
     "data": {
      "text/plain": [
       "{4: 0, 3: 1, 2: 2, 1: 3, 0: 4}"
      ]
     },
     "execution_count": 7,
     "metadata": {},
     "output_type": "execute_result"
    }
   ],
   "source": [
    "hole_cost = {length: cost\n",
    "             for length, cost in zip(range(AMPHIPODS_PER_TYPE, -1, -1), range(AMPHIPODS_PER_TYPE + 1))}\n",
    "hole_cost"
   ]
  },
  {
   "cell_type": "code",
   "execution_count": 8,
   "id": "f8730cba",
   "metadata": {},
   "outputs": [],
   "source": [
    "def to_hallway(pos, hole_coord, holes, hallway):\n",
    "    if (pos in hole_coords\n",
    "        or any(h != \".\" for h in hallway[min(hole_coord, pos): max(hole_coord, pos) + 1])\n",
    "        or len(holes[hole_coord]) == 0\n",
    "        or all(hole_coords[hole_coord] == resident for resident in holes[hole_coord])):\n",
    "        \n",
    "        return holes, hallway, 0\n",
    "    \n",
    "    cost = hole_cost[len(holes[hole_coord])] + abs(hole_coord - pos) + 1\n",
    "    amphipod = holes[hole_coord].pop()\n",
    "    cost *= move_price[amphipod]\n",
    "    hallway[pos] = amphipod\n",
    "\n",
    "    return holes, hallway, cost\n",
    "\n",
    "def to_hole(pos, hole_coord, holes, hallway):\n",
    "    if (hallway[pos] == \".\"\n",
    "        or hallway[pos] != hole_coords[hole_coord]\n",
    "        or any(hallway[pos] != resident for resident in holes[hole_coord])\n",
    "        or any(h != \".\" for h in hallway[min(hole_coord, pos + 1): max(hole_coord, pos - 1) + 1])\n",
    "        or len(holes[hole_coord]) == AMPHIPODS_PER_TYPE):\n",
    "        \n",
    "        return holes, hallway, 0\n",
    "    \n",
    "    amphipod = hallway[pos]\n",
    "    cost = hole_cost[len(holes[hole_coord])] + abs(hole_coord - pos)\n",
    "    cost *= move_price[amphipod]\n",
    "    holes[hole_coord].append(amphipod)\n",
    "    hallway[pos] = \".\"\n",
    "    \n",
    "    return holes, hallway, cost"
   ]
  },
  {
   "cell_type": "code",
   "execution_count": 9,
   "id": "5a69ce8a",
   "metadata": {},
   "outputs": [],
   "source": [
    "def are_amphs_home(holes):\n",
    "    return all(all(amph == hole_coords[coord]\n",
    "                   for amph in holes[coord])\n",
    "               and len(holes[coord]) == AMPHIPODS_PER_TYPE\n",
    "               for coord in holes)"
   ]
  },
  {
   "cell_type": "code",
   "execution_count": 10,
   "id": "78ce636a",
   "metadata": {},
   "outputs": [],
   "source": [
    "def holes_key(holes_dict):\n",
    "    return tuple((k, tuple(v)) for k, v in holes_dict.items())"
   ]
  },
  {
   "cell_type": "code",
   "execution_count": 11,
   "id": "08d3087e",
   "metadata": {},
   "outputs": [],
   "source": [
    "def unfinished_holes(holes):\n",
    "    return {k: v for k, v in holes.items() if any(a != hole_coords[k] for a in v)}\n",
    "\n",
    "def non_full_holes(holes):\n",
    "    return {k: v for k, v in holes.items() if len(v) < AMPHIPODS_PER_TYPE}\n",
    "\n",
    "def non_empty_pos(hallway):\n",
    "    return [i for i, pos in enumerate(hallway) if pos != '.' and i not in holes]\n",
    "\n",
    "def available_pos(hallway):\n",
    "    return [i for i, pos in enumerate(hallway) if pos == '.' and i not in holes]"
   ]
  },
  {
   "cell_type": "code",
   "execution_count": 12,
   "id": "7d524f09",
   "metadata": {},
   "outputs": [],
   "source": [
    "cache = {}\n",
    "\n",
    "def move_amphipods(holes, hallway, cost):\n",
    "    cache_key = (holes_key(holes), tuple(hallway), cost)\n",
    "    \n",
    "    if cache_key in cache:\n",
    "        return cache[cache_key]\n",
    "    \n",
    "    if are_amphs_home(holes):\n",
    "        cache[cache_key] = cost\n",
    "        return cost\n",
    "    \n",
    "    tentative_moves = []\n",
    "    \n",
    "    for hole in unfinished_holes(holes):\n",
    "        for pos in available_pos(hallway):\n",
    "            tentative_move = to_hallway(pos, hole, deepcopy(holes), copy(hallway))\n",
    "            if tentative_move[2] <= 0:\n",
    "                continue\n",
    "            tentative_moves.append(tentative_move)\n",
    "    \n",
    "    for hole in non_full_holes(holes):\n",
    "        for pos in non_empty_pos(hallway):\n",
    "            tentative_move = to_hole(pos, hole, deepcopy(holes), copy(hallway))\n",
    "            if tentative_move[2] <= 0:\n",
    "                continue\n",
    "            tentative_moves.append(tentative_move)\n",
    "\n",
    "    tentative_costs = []\n",
    "    for move in tentative_moves:\n",
    "        tentative_cost = cost + move_amphipods(*move)\n",
    "        if tentative_cost == cost:\n",
    "            continue\n",
    "        tentative_costs.append(tentative_cost) \n",
    "    \n",
    "    cache[cache_key] = min(tentative_costs, default=0)\n",
    "    \n",
    "    return cache[cache_key]"
   ]
  },
  {
   "cell_type": "code",
   "execution_count": 13,
   "id": "e23639fb",
   "metadata": {},
   "outputs": [
    {
     "data": {
      "text/plain": [
       "52055"
      ]
     },
     "execution_count": 13,
     "metadata": {},
     "output_type": "execute_result"
    }
   ],
   "source": [
    "move_amphipods(holes, hallway, 0)"
   ]
  },
  {
   "cell_type": "code",
   "execution_count": null,
   "id": "ae86bdc1",
   "metadata": {},
   "outputs": [],
   "source": []
  }
 ],
 "metadata": {
  "kernelspec": {
   "display_name": "Python 3 (ipykernel)",
   "language": "python",
   "name": "python3"
  },
  "language_info": {
   "codemirror_mode": {
    "name": "ipython",
    "version": 3
   },
   "file_extension": ".py",
   "mimetype": "text/x-python",
   "name": "python",
   "nbconvert_exporter": "python",
   "pygments_lexer": "ipython3",
   "version": "3.9.7"
  }
 },
 "nbformat": 4,
 "nbformat_minor": 5
}
