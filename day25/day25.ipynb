{
 "cells": [
  {
   "cell_type": "code",
   "execution_count": null,
   "id": "efa92011",
   "metadata": {},
   "outputs": [],
   "source": [
    "with open(\"input\", \"r\") as f:\n",
    "    lines = [list(line.strip()) for line in f.readlines()]"
   ]
  },
  {
   "cell_type": "code",
   "execution_count": null,
   "id": "2ebf0f13",
   "metadata": {},
   "outputs": [],
   "source": [
    "def step(lines):\n",
    "    can_move_x = [(row, col)\n",
    "                  for row, line in enumerate(lines)\n",
    "                  for col, pos in enumerate(line)\n",
    "                  if pos == \">\" and lines[row][(col + 1) % len(line)] == '.']\n",
    "\n",
    "    for row, col in can_move_x:\n",
    "        lines[row][col] = '.'\n",
    "        lines[row][(col + 1) % len(lines[row])] = '>'\n",
    "    \n",
    "    can_move_y = [(row, col)\n",
    "                  for row, line in enumerate(lines)\n",
    "                  for col, pos in enumerate(line)\n",
    "                  if pos == \"v\" and lines[(row + 1) % len(lines)][col] == '.']\n",
    "\n",
    "    for row, col in can_move_y:\n",
    "        lines[row][col] = '.'\n",
    "        lines[(row + 1) % len(lines)][col] = 'v'\n",
    "        \n",
    "    n_moved = len(can_move_x) + len(can_move_y)\n",
    "    \n",
    "    return (lines, n_moved)"
   ]
  },
  {
   "cell_type": "code",
   "execution_count": null,
   "id": "32c7701b",
   "metadata": {},
   "outputs": [],
   "source": [
    "n_moved = 1\n",
    "n_steps = 0\n",
    "\n",
    "while n_moved != 0:\n",
    "    lines, n_moved = step(lines)\n",
    "    n_steps += 1"
   ]
  },
  {
   "cell_type": "code",
   "execution_count": null,
   "id": "50ed85d9",
   "metadata": {},
   "outputs": [],
   "source": [
    "n_steps"
   ]
  }
 ],
 "metadata": {
  "kernelspec": {
   "display_name": "Python 3 (ipykernel)",
   "language": "python",
   "name": "python3"
  },
  "language_info": {
   "codemirror_mode": {
    "name": "ipython",
    "version": 3
   },
   "file_extension": ".py",
   "mimetype": "text/x-python",
   "name": "python",
   "nbconvert_exporter": "python",
   "pygments_lexer": "ipython3",
   "version": "3.9.7"
  }
 },
 "nbformat": 4,
 "nbformat_minor": 5
}
