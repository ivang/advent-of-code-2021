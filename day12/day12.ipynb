{
 "cells": [
  {
   "cell_type": "code",
   "execution_count": null,
   "id": "608e2b60",
   "metadata": {},
   "outputs": [],
   "source": [
    "import networkx as nx"
   ]
  },
  {
   "cell_type": "code",
   "execution_count": null,
   "id": "f6215dc2",
   "metadata": {},
   "outputs": [],
   "source": [
    "with open(\"input\", \"r\") as f:\n",
    "    edges = [line.strip().split(\"-\") for line in f.readlines()]"
   ]
  },
  {
   "cell_type": "code",
   "execution_count": null,
   "id": "4cf30fce",
   "metadata": {},
   "outputs": [],
   "source": [
    "caves = nx.Graph(edges)"
   ]
  },
  {
   "cell_type": "markdown",
   "id": "f1c87b1a",
   "metadata": {},
   "source": [
    "### Part 1"
   ]
  },
  {
   "cell_type": "code",
   "execution_count": null,
   "id": "a61e759f",
   "metadata": {},
   "outputs": [],
   "source": [
    "def can_visit_cave_1(path, cave):\n",
    "    return cave.isupper() or cave not in path"
   ]
  },
  {
   "cell_type": "code",
   "execution_count": null,
   "id": "8adbdfa3",
   "metadata": {},
   "outputs": [],
   "source": [
    "def walk(graph, node=\"start\", path=[]):\n",
    "    \n",
    "    path.append(node)\n",
    "    \n",
    "    if node == \"end\":\n",
    "        return [path]\n",
    "    \n",
    "    paths = []\n",
    "    for neighbor in graph.neighbors(node):\n",
    "        if not can_visit_cave_1(path, neighbor):\n",
    "            continue\n",
    "        paths += walk(graph, neighbor, path.copy())\n",
    "\n",
    "    return paths"
   ]
  },
  {
   "cell_type": "code",
   "execution_count": null,
   "id": "33c1cbbd",
   "metadata": {},
   "outputs": [],
   "source": [
    "len(walk(caves))"
   ]
  },
  {
   "cell_type": "markdown",
   "id": "3281f231",
   "metadata": {},
   "source": [
    "### Part 2"
   ]
  },
  {
   "cell_type": "code",
   "execution_count": null,
   "id": "61e02fc3",
   "metadata": {},
   "outputs": [],
   "source": [
    "def can_visit_cave_2(path, cave):\n",
    "    if cave == \"start\":\n",
    "        return False\n",
    "    if cave == \"end\":\n",
    "        return cave not in path\n",
    "    if cave not in path or cave.isupper():\n",
    "        return True\n",
    "    return all(path.count(cave) <= 1 for cave in path if cave.islower())"
   ]
  },
  {
   "cell_type": "code",
   "execution_count": null,
   "id": "0445163c",
   "metadata": {},
   "outputs": [],
   "source": [
    "def walk2(graph, node=\"start\", path=[]):\n",
    "\n",
    "    path.append(node)\n",
    "    \n",
    "    if node == \"end\":\n",
    "        return [path]\n",
    "    \n",
    "    paths = []\n",
    "    for neighbor in graph.neighbors(node):\n",
    "        if not can_visit_cave_2(path, neighbor):\n",
    "            continue\n",
    "        paths += walk2(graph, neighbor, path.copy())\n",
    "\n",
    "    return paths"
   ]
  },
  {
   "cell_type": "code",
   "execution_count": null,
   "id": "c455cd24",
   "metadata": {
    "scrolled": true
   },
   "outputs": [],
   "source": [
    "len(walk2(caves))"
   ]
  }
 ],
 "metadata": {
  "kernelspec": {
   "display_name": "Python 3",
   "language": "python",
   "name": "python3"
  },
  "language_info": {
   "codemirror_mode": {
    "name": "ipython",
    "version": 3
   },
   "file_extension": ".py",
   "mimetype": "text/x-python",
   "name": "python",
   "nbconvert_exporter": "python",
   "pygments_lexer": "ipython3",
   "version": "3.7.9"
  }
 },
 "nbformat": 4,
 "nbformat_minor": 5
}
