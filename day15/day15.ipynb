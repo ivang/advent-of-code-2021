{
 "cells": [
  {
   "cell_type": "code",
   "execution_count": null,
   "id": "25a81d46",
   "metadata": {},
   "outputs": [],
   "source": [
    "from heapq import heappush, heappop\n",
    "from itertools import permutations\n",
    "from math import inf"
   ]
  },
  {
   "cell_type": "code",
   "execution_count": null,
   "id": "30203e77",
   "metadata": {},
   "outputs": [],
   "source": [
    "def is_within_bounds(point, bounds):\n",
    "    x, y = point\n",
    "    x_bounds, y_bounds = bounds\n",
    "    return x_bounds[0] <= x <= x_bounds[1] and y_bounds[0] <= y <= y_bounds[1]"
   ]
  },
  {
   "cell_type": "code",
   "execution_count": null,
   "id": "b8a67b23",
   "metadata": {},
   "outputs": [],
   "source": [
    "def reconstruct_path(came_from, current):\n",
    "    path = [current]\n",
    "\n",
    "    while current in came_from:\n",
    "        current = came_from[current]\n",
    "        path = [current] + path\n",
    "    \n",
    "    return path"
   ]
  },
  {
   "cell_type": "code",
   "execution_count": null,
   "id": "55521c5f",
   "metadata": {},
   "outputs": [],
   "source": [
    "def h(point_a, point_b):\n",
    "    return sum(abs(coord_a - coord_b) for coord_a, coord_b in zip(point_a, point_b))"
   ]
  },
  {
   "cell_type": "code",
   "execution_count": null,
   "id": "627d507f",
   "metadata": {},
   "outputs": [],
   "source": [
    "def A_star(start, goal, matrix, h):\n",
    "    x, y = start\n",
    "    came_from = {}\n",
    "    g_score = {start: 0}\n",
    "    f_score = {start: g_score[start] + h(start, goal)}\n",
    "    \n",
    "    open_set = []\n",
    "    heappush(open_set, (f_score[start], start))\n",
    "    \n",
    "    bounds = [(0, len(matrix) - 1),\n",
    "              (0, len(matrix[0]) - 1)]\n",
    "    \n",
    "    while len(open_set) > 0:\n",
    "        _, current = heappop(open_set)\n",
    "        x, y = current\n",
    "        \n",
    "        if current == goal:\n",
    "            return reconstruct_path(came_from, current)\n",
    "        \n",
    "        neighbors = [(x + x0, y + y0) for x0, y0 in permutations((-1, 0, 1), 2)\n",
    "                     if abs(x0) != abs(y0)\n",
    "                     and is_within_bounds((x + x0, y + y0), bounds)]\n",
    "        \n",
    "        for neighbor in neighbors:\n",
    "            tentative_g_score = g_score.get(current, inf) + matrix[neighbor[0]][neighbor[1]]\n",
    "\n",
    "            if tentative_g_score < g_score.get(neighbor, inf):\n",
    "                came_from[neighbor] = current\n",
    "                g_score[neighbor] = tentative_g_score\n",
    "                f_score[neighbor] = tentative_g_score + h(neighbor, goal)\n",
    "                if (f_score[neighbor], neighbor) not in open_set:\n",
    "                    heappush(open_set, (f_score[neighbor], neighbor))\n",
    "    return -1"
   ]
  },
  {
   "cell_type": "code",
   "execution_count": null,
   "id": "f13e788f",
   "metadata": {},
   "outputs": [],
   "source": [
    "with open(\"input\", \"r\") as f:\n",
    "    risk_matrix = [[int(n) for n in list(line)] for line in map(str.strip, f.readlines())]"
   ]
  },
  {
   "cell_type": "markdown",
   "id": "220634f0",
   "metadata": {},
   "source": [
    "### Part 1"
   ]
  },
  {
   "cell_type": "code",
   "execution_count": null,
   "id": "8325855e",
   "metadata": {},
   "outputs": [],
   "source": [
    "start = (0, 0)\n",
    "goal = (len(risk_matrix) - 1,\n",
    "        len(risk_matrix[0]) - 1)\n",
    "\n",
    "path = A_star(start, goal, risk_matrix, h)"
   ]
  },
  {
   "cell_type": "code",
   "execution_count": null,
   "id": "aef8fb54",
   "metadata": {},
   "outputs": [],
   "source": [
    "sum(risk_matrix[x][y] for x, y in path[1:])"
   ]
  },
  {
   "cell_type": "markdown",
   "id": "c1474b5e",
   "metadata": {},
   "source": [
    "### Part 2"
   ]
  },
  {
   "cell_type": "code",
   "execution_count": null,
   "id": "482d11a8",
   "metadata": {},
   "outputs": [],
   "source": [
    "import numpy as np\n",
    "\n",
    "risk = np.array(risk_matrix)\n",
    "risk_row = [(risk + i) % 10 + (risk + i) // 10 for i in range(10)]\n",
    "risk_plex = np.vstack([np.hstack(risk_row[i:i + 5]) for i in range(5)])"
   ]
  },
  {
   "cell_type": "code",
   "execution_count": null,
   "id": "25ab024d",
   "metadata": {},
   "outputs": [],
   "source": [
    "start = (0, 0)\n",
    "goal = (len(risk_plex) - 1,\n",
    "        len(risk_plex[0]) - 1)\n",
    "\n",
    "path = A_star(start, goal, risk_plex, h)"
   ]
  },
  {
   "cell_type": "code",
   "execution_count": null,
   "id": "b15a4795",
   "metadata": {},
   "outputs": [],
   "source": [
    "sum(risk_plex[x][y] for x, y in path[1:])"
   ]
  }
 ],
 "metadata": {
  "kernelspec": {
   "display_name": "Python 3 (ipykernel)",
   "language": "python",
   "name": "python3"
  },
  "language_info": {
   "codemirror_mode": {
    "name": "ipython",
    "version": 3
   },
   "file_extension": ".py",
   "mimetype": "text/x-python",
   "name": "python",
   "nbconvert_exporter": "python",
   "pygments_lexer": "ipython3",
   "version": "3.9.7"
  }
 },
 "nbformat": 4,
 "nbformat_minor": 5
}
