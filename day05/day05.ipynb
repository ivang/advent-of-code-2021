{
 "cells": [
  {
   "cell_type": "code",
   "execution_count": null,
   "id": "542c27f8",
   "metadata": {},
   "outputs": [],
   "source": [
    "from collections import Counter\n",
    "from itertools import product, starmap"
   ]
  },
  {
   "cell_type": "code",
   "execution_count": null,
   "id": "c6d70da7",
   "metadata": {},
   "outputs": [],
   "source": [
    "with open(\"input\", \"r\") as f:\n",
    "    lines = [(tuple(map(int, p1.split(\",\"))), tuple(map(int, p2.split(\",\"))))\n",
    "             for p1, _, p2 in [line.strip().split() for line in f.readlines()]]"
   ]
  },
  {
   "cell_type": "code",
   "execution_count": null,
   "id": "f0956869",
   "metadata": {},
   "outputs": [],
   "source": [
    "def sign(a, b):\n",
    "    if a == b:\n",
    "        return 1\n",
    "    return (b - a) // abs(b - a)"
   ]
  },
  {
   "cell_type": "markdown",
   "id": "6542bf98",
   "metadata": {},
   "source": [
    "### Part 1"
   ]
  },
  {
   "cell_type": "code",
   "execution_count": null,
   "id": "3d57292f",
   "metadata": {},
   "outputs": [],
   "source": [
    "hv_lines = [line for line in lines if line[0][0] == line[1][0] or line[0][1] == line[1][1]]"
   ]
  },
  {
   "cell_type": "code",
   "execution_count": null,
   "id": "b83f2f4c",
   "metadata": {},
   "outputs": [],
   "source": [
    "range_args = [[[c[0], c[1] + sign(c[0], c[1]), sign(c[0], c[1])] for c in line]\n",
    "              for line in [zip(*hv_line) for hv_line in hv_lines]]\n",
    "points = [p for line in range_args for p in product(*starmap(range, line))]"
   ]
  },
  {
   "cell_type": "code",
   "execution_count": null,
   "id": "e0a7993b",
   "metadata": {
    "scrolled": true
   },
   "outputs": [],
   "source": [
    "sum(count >= 2 for count in Counter(points).values())"
   ]
  },
  {
   "cell_type": "markdown",
   "id": "073a93fb",
   "metadata": {},
   "source": [
    "### Part 2"
   ]
  },
  {
   "cell_type": "code",
   "execution_count": null,
   "id": "7d98a938",
   "metadata": {},
   "outputs": [],
   "source": [
    "diag_lines = [line for line in lines if line[0][0] != line[1][0] and line[0][1] != line[1][1]]"
   ]
  },
  {
   "cell_type": "code",
   "execution_count": null,
   "id": "558578f5",
   "metadata": {},
   "outputs": [],
   "source": [
    "range_args = [[[c[0], c[1] + sign(c[0], c[1]), sign(c[0], c[1])] for c in line]\n",
    "              for line in [zip(*diag_line) for diag_line in diag_lines]]\n",
    "points += [p for line in range_args for p in zip(*starmap(range, line))]"
   ]
  },
  {
   "cell_type": "code",
   "execution_count": null,
   "id": "9456d6b8",
   "metadata": {},
   "outputs": [],
   "source": [
    "sum(count >= 2 for count in Counter(points).values())"
   ]
  }
 ],
 "metadata": {
  "kernelspec": {
   "display_name": "Python 3",
   "language": "python",
   "name": "python3"
  },
  "language_info": {
   "codemirror_mode": {
    "name": "ipython",
    "version": 3
   },
   "file_extension": ".py",
   "mimetype": "text/x-python",
   "name": "python",
   "nbconvert_exporter": "python",
   "pygments_lexer": "ipython3",
   "version": "3.7.9"
  }
 },
 "nbformat": 4,
 "nbformat_minor": 5
}
