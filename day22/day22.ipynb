{
 "cells": [
  {
   "cell_type": "code",
   "execution_count": null,
   "id": "05eeceb0",
   "metadata": {},
   "outputs": [],
   "source": [
    "from itertools import product"
   ]
  },
  {
   "cell_type": "code",
   "execution_count": null,
   "id": "f0cb8c91",
   "metadata": {},
   "outputs": [],
   "source": [
    "with open(\"input\", \"r\") as f:\n",
    "    lines = [line.strip().split() for line in f.readlines()]"
   ]
  },
  {
   "cell_type": "markdown",
   "id": "fdfff212",
   "metadata": {},
   "source": [
    "### Part 1"
   ]
  },
  {
   "cell_type": "code",
   "execution_count": null,
   "id": "72a93560",
   "metadata": {},
   "outputs": [],
   "source": [
    "cubes = {coords: 0 for coords in product(range(-50, 51), repeat=3)}"
   ]
  },
  {
   "cell_type": "code",
   "execution_count": null,
   "id": "bcf34af1",
   "metadata": {},
   "outputs": [],
   "source": [
    "for state, specs in lines:\n",
    "    coords = {axis: (int(lims.split(\"..\")[0]), int(lims.split(\"..\")[1]) + 1)\n",
    "              for axis, lims in [spec.split(\"=\") \n",
    "                                 for spec in specs.split(\",\")]}\n",
    "\n",
    "    for x in range(max(coords[\"x\"][0], -50), min(coords[\"x\"][1], 51)):\n",
    "        for y in range(max(coords[\"y\"][0], -50), min(coords[\"y\"][1], 51)):\n",
    "            for z in range(max(coords[\"z\"][0], -50), min(coords[\"z\"][1], 51)):\n",
    "                cubes[(x, y, z)] = int(state == \"on\")"
   ]
  },
  {
   "cell_type": "code",
   "execution_count": null,
   "id": "af4b4ddc",
   "metadata": {},
   "outputs": [],
   "source": [
    "sum(cubes.values())"
   ]
  },
  {
   "cell_type": "markdown",
   "id": "9793fa04",
   "metadata": {},
   "source": [
    "### Part 2"
   ]
  },
  {
   "cell_type": "code",
   "execution_count": null,
   "id": "b3021050",
   "metadata": {},
   "outputs": [],
   "source": [
    "instructions = []\n",
    "for state, specs in lines:\n",
    "    coords = {axis: (int(lims.split(\"..\")[0]), int(lims.split(\"..\")[1]) + 1)\n",
    "              for axis, lims in [spec.split(\"=\") \n",
    "                                 for spec in specs.split(\",\")]}\n",
    "    coords[\"state\"] = state == \"on\"\n",
    "    instructions.append(coords)"
   ]
  },
  {
   "cell_type": "code",
   "execution_count": null,
   "id": "ad7adc90",
   "metadata": {},
   "outputs": [],
   "source": [
    "xs = {lim: 0 for instruction in instructions for lim in instruction[\"x\"]}\n",
    "ys = {lim: 0 for instruction in instructions for lim in instruction[\"y\"]}\n",
    "zs = {lim: 0 for instruction in instructions for lim in instruction[\"z\"]}\n",
    "\n",
    "xk = sorted(xs.keys())\n",
    "xs = {x1: x2 for x1, x2 in zip(xk, xk[1:])}\n",
    "\n",
    "yk = sorted(ys.keys())\n",
    "ys = {x1: x2 for x1, x2 in zip(yk, yk[1:])}\n",
    "\n",
    "zk = sorted(zs.keys())\n",
    "zs = {x1: x2 for x1, x2 in zip(zk, zk[1:])}"
   ]
  },
  {
   "cell_type": "code",
   "execution_count": null,
   "id": "c59a404b",
   "metadata": {},
   "outputs": [],
   "source": [
    "rects = {}\n",
    "\n",
    "for instruction in instructions:\n",
    "    begin_x, end_x = instruction[\"x\"]\n",
    "    current_x = begin_x\n",
    "    while current_x != end_x:\n",
    "        begin_y, end_y = instruction[\"y\"]\n",
    "        current_y = begin_y\n",
    "        while current_y != end_y:\n",
    "            begin_z, end_z = instruction[\"z\"]\n",
    "            current_z = begin_z\n",
    "            while current_z != end_z:\n",
    "                rect_key = (current_x, current_y, current_z)\n",
    "                rects[rect_key] = instruction[\"state\"]\n",
    "                current_z = zs[current_z]\n",
    "            current_y = ys[current_y]\n",
    "        current_x = xs[current_x]\n"
   ]
  },
  {
   "cell_type": "code",
   "execution_count": null,
   "id": "85785aa8",
   "metadata": {},
   "outputs": [],
   "source": [
    "def volume(coords):\n",
    "    return (xs[coords[0]] - coords[0]) * (ys[coords[1]] - coords[1]) * (zs[coords[2]] - coords[2])"
   ]
  },
  {
   "cell_type": "code",
   "execution_count": null,
   "id": "7e250e67",
   "metadata": {},
   "outputs": [],
   "source": [
    "sum(volume(k) for k, v in rects.items() if v)"
   ]
  }
 ],
 "metadata": {
  "kernelspec": {
   "display_name": "Python 3 (ipykernel)",
   "language": "python",
   "name": "python3"
  },
  "language_info": {
   "codemirror_mode": {
    "name": "ipython",
    "version": 3
   },
   "file_extension": ".py",
   "mimetype": "text/x-python",
   "name": "python",
   "nbconvert_exporter": "python",
   "pygments_lexer": "ipython3",
   "version": "3.9.7"
  }
 },
 "nbformat": 4,
 "nbformat_minor": 5
}
