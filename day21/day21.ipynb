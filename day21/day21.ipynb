{
 "cells": [
  {
   "cell_type": "code",
   "execution_count": null,
   "id": "95b48ed9",
   "metadata": {},
   "outputs": [],
   "source": [
    "import numpy as np"
   ]
  },
  {
   "cell_type": "code",
   "execution_count": null,
   "id": "f4f4448a",
   "metadata": {},
   "outputs": [],
   "source": [
    "positions = {}\n",
    "\n",
    "with open(\"input\", \"r\") as f:\n",
    "    positions[\"p1\"] = int(f.readline().split(\":\")[1].strip()) - 1\n",
    "    positions[\"p2\"] = int(f.readline().split(\":\")[1].strip()) - 1\n",
    "    \n",
    "positions2 = np.array(list(positions.values()))"
   ]
  },
  {
   "cell_type": "markdown",
   "id": "6cd7dd0b",
   "metadata": {},
   "source": [
    "### Part 1"
   ]
  },
  {
   "cell_type": "code",
   "execution_count": null,
   "id": "7997ae50",
   "metadata": {},
   "outputs": [],
   "source": [
    "def deterministic_roll():\n",
    "    n = 0\n",
    "    while True:\n",
    "        yield n % 100 + 1\n",
    "        n += 1"
   ]
  },
  {
   "cell_type": "code",
   "execution_count": null,
   "id": "dc8ab449",
   "metadata": {},
   "outputs": [],
   "source": [
    "roll = deterministic_roll()\n",
    "\n",
    "scores = {\"p1\": 0, \"p2\": 0}\n",
    "throws = 0\n",
    "\n",
    "while scores[\"p1\"] < 1000 and scores[\"p2\"] < 1000:\n",
    "    for p in (\"p1\", \"p2\"):\n",
    "        throw = sum(next(roll) for i in range(3))\n",
    "        throws += 3\n",
    "        positions[p] = (positions[p] + throw) % 10\n",
    "        scores[p] += positions[p] + 1\n",
    "        if scores[p] >= 1000:\n",
    "            break\n",
    "            \n",
    "min(scores.values()) * throws"
   ]
  },
  {
   "cell_type": "markdown",
   "id": "4f1ca2ca",
   "metadata": {},
   "source": [
    "### Part 2"
   ]
  },
  {
   "cell_type": "code",
   "execution_count": null,
   "id": "ac547cbf",
   "metadata": {},
   "outputs": [],
   "source": [
    "cache = {}\n",
    "\n",
    "def dirac_roll(positions, scores, player):\n",
    "    \n",
    "    cache_key = (tuple(positions), tuple(scores), player)\n",
    "    \n",
    "    if cache_key in cache:\n",
    "        return cache[cache_key]\n",
    "    \n",
    "    throws = np.tensordot(np.sum(np.meshgrid(*np.tile(np.arange(1, 4), 3).reshape((3, 3))),\n",
    "                                 axis=0, dtype=int).flatten(),\n",
    "                          np.eye(1, 2, player, dtype=int).flatten(), axes=0)\n",
    "    \n",
    "    new_pos = (throws + positions) % 10\n",
    "    \n",
    "    new_scores = scores + (new_pos + 1) * np.eye(1, 2, player, dtype=int).flatten()\n",
    "    next_player = (player + 1) % 2\n",
    "\n",
    "    score_filter = new_scores >= 21\n",
    "        \n",
    "    wins = new_scores[score_filter[:, player], :].shape[0]\n",
    "    win_score = np.eye(1, 2, player, dtype=int) * wins\n",
    "\n",
    "    undecided = new_scores[~score_filter[:, player], :]\n",
    "    undecided_pos = new_pos[~score_filter[:, player], :]\n",
    "    \n",
    "    if undecided.shape[0] == 0:\n",
    "        cache[cache_key] = win_score\n",
    "        return win_score\n",
    "    \n",
    "    cache[cache_key] = np.sum(np.vstack((win_score,\n",
    "                                         dirac_roll(undecided_pos, undecided, next_player))),\n",
    "                              axis=0, dtype=int)\n",
    "\n",
    "    return cache[cache_key]\n",
    "\n",
    "dirac_roll = np.vectorize(dirac_roll, signature='(m),(m),()->(m)')"
   ]
  },
  {
   "cell_type": "code",
   "execution_count": null,
   "id": "012dbde8",
   "metadata": {},
   "outputs": [],
   "source": [
    "np.max(dirac_roll(positions2, np.zeros(2), 0))"
   ]
  }
 ],
 "metadata": {
  "kernelspec": {
   "display_name": "Python 3 (ipykernel)",
   "language": "python",
   "name": "python3"
  },
  "language_info": {
   "codemirror_mode": {
    "name": "ipython",
    "version": 3
   },
   "file_extension": ".py",
   "mimetype": "text/x-python",
   "name": "python",
   "nbconvert_exporter": "python",
   "pygments_lexer": "ipython3",
   "version": "3.9.7"
  }
 },
 "nbformat": 4,
 "nbformat_minor": 5
}
