{
 "cells": [
  {
   "cell_type": "code",
   "execution_count": null,
   "id": "8a25b4a9",
   "metadata": {
    "scrolled": true
   },
   "outputs": [],
   "source": [
    "from itertools import permutations\n",
    "from math import floor, ceil\n",
    "from copy import deepcopy\n",
    "from functools import reduce"
   ]
  },
  {
   "cell_type": "code",
   "execution_count": null,
   "id": "f6e65c84",
   "metadata": {},
   "outputs": [],
   "source": [
    "def set_elt(tree, idx, val):\n",
    "    if not hasattr(tree[idx[0]], \"__iter__\"):\n",
    "        tree[idx[0]] = val\n",
    "        return tree\n",
    "    \n",
    "    if len(idx) == 1:\n",
    "        tree[idx[0]] = val\n",
    "        return tree[idx[0]]\n",
    "    \n",
    "    return set_elt(tree[idx[0]], idx[1:], val)"
   ]
  },
  {
   "cell_type": "code",
   "execution_count": null,
   "id": "9097151b",
   "metadata": {},
   "outputs": [],
   "source": [
    "def get_elt(tree, idx):\n",
    "    _idx = idx.copy()\n",
    "    _idx.reverse()\n",
    "    elt = tree\n",
    "    while len(_idx) > 0 and hasattr(elt, \"__iter__\"):\n",
    "        i = _idx.pop()\n",
    "        elt = elt[i]\n",
    "    return elt"
   ]
  },
  {
   "cell_type": "code",
   "execution_count": null,
   "id": "753987ce",
   "metadata": {},
   "outputs": [],
   "source": [
    "def add_in_direction(tree, idx, direction):\n",
    "    _new_idx = int(\"\".join(map(str, idx)), 2) + direction\n",
    "    \n",
    "    if _new_idx < 0:\n",
    "        return set_elt(tree, idx + [0], 0)\n",
    "    \n",
    "    new_idx = list(map(int, list(\"{:04b}\".format(_new_idx))))\n",
    "    if len(new_idx) > 4:\n",
    "        return tree\n",
    "    \n",
    "    while hasattr(get_elt(tree, new_idx), \"__iter__\"):\n",
    "        new_idx += [int(direction == -1)]\n",
    "                \n",
    "    set_elt(tree, new_idx, get_elt(tree, new_idx) + get_elt(tree, idx + [int(direction == 1)]))\n",
    "    return tree"
   ]
  },
  {
   "cell_type": "code",
   "execution_count": null,
   "id": "f08a9f19",
   "metadata": {},
   "outputs": [],
   "source": [
    "def explode(tree):\n",
    "    for i in range(16):\n",
    "        idx = list(map(int, list(\"{:04b}\".format(i))))\n",
    "        if hasattr(get_elt(tree, idx), \"__iter__\"):\n",
    "            break\n",
    "\n",
    "    if not hasattr(get_elt(tree, idx), \"__iter__\"):\n",
    "        return tree\n",
    "    \n",
    "    add_in_direction(tree, idx, -1)\n",
    "    add_in_direction(tree, idx, +1)\n",
    "    set_elt(tree, idx, 0)\n",
    "    \n",
    "    return tree"
   ]
  },
  {
   "cell_type": "code",
   "execution_count": null,
   "id": "86bc1955",
   "metadata": {},
   "outputs": [],
   "source": [
    "def split(tree):\n",
    "    for i in range(16):\n",
    "        idx = list(map(int, list(\"{:04b}\".format(i))))\n",
    "        elt = get_elt(tree, idx)\n",
    "        if not hasattr(elt, \"__iter__\") and elt > 9:\n",
    "            break\n",
    "    \n",
    "    elt = get_elt(tree, idx)\n",
    "    if hasattr(elt, \"__iter__\") or elt <= 9:\n",
    "        return tree\n",
    "\n",
    "    set_elt(tree, idx, [floor(elt / 2), ceil(elt / 2)])\n",
    "    \n",
    "    return tree"
   ]
  },
  {
   "cell_type": "code",
   "execution_count": null,
   "id": "91ffba5f",
   "metadata": {},
   "outputs": [],
   "source": [
    "def add(tree_a, tree_b):\n",
    "    tree = [deepcopy(tree_a), deepcopy(tree_b)]\n",
    "    old_tree = []\n",
    "    while old_tree != tree:        \n",
    "        for op in [explode, split]:\n",
    "            old_tree = deepcopy(tree)\n",
    "            op(tree)\n",
    "            if old_tree != tree:\n",
    "                break\n",
    "    return tree"
   ]
  },
  {
   "cell_type": "code",
   "execution_count": null,
   "id": "22cd049e",
   "metadata": {},
   "outputs": [],
   "source": [
    "def magnitude(tree):\n",
    "    if isinstance(tree, int):\n",
    "        return tree\n",
    "    \n",
    "    return 3 * magnitude(tree[0]) + 2 * magnitude(tree[1])"
   ]
  },
  {
   "cell_type": "code",
   "execution_count": null,
   "id": "8ee9a496",
   "metadata": {},
   "outputs": [],
   "source": [
    "with open(\"input\", \"r\") as f:\n",
    "    snailfish_numbers = [eval(number.strip()) for number in f.readlines()]"
   ]
  },
  {
   "cell_type": "markdown",
   "id": "34203287",
   "metadata": {},
   "source": [
    "### Part 1"
   ]
  },
  {
   "cell_type": "code",
   "execution_count": null,
   "id": "ba8e18bc",
   "metadata": {},
   "outputs": [],
   "source": [
    "magnitude(reduce(add, snailfish_numbers))"
   ]
  },
  {
   "cell_type": "markdown",
   "id": "d2165b09",
   "metadata": {},
   "source": [
    "### Part 2"
   ]
  },
  {
   "cell_type": "code",
   "execution_count": null,
   "id": "4a63ae71",
   "metadata": {},
   "outputs": [],
   "source": [
    "max(magnitude(add(*pair)) for pair in permutations(snailfish_numbers, 2))"
   ]
  }
 ],
 "metadata": {
  "kernelspec": {
   "display_name": "Python 3 (ipykernel)",
   "language": "python",
   "name": "python3"
  },
  "language_info": {
   "codemirror_mode": {
    "name": "ipython",
    "version": 3
   },
   "file_extension": ".py",
   "mimetype": "text/x-python",
   "name": "python",
   "nbconvert_exporter": "python",
   "pygments_lexer": "ipython3",
   "version": "3.9.7"
  }
 },
 "nbformat": 4,
 "nbformat_minor": 5
}
