{
 "cells": [
  {
   "cell_type": "code",
   "execution_count": null,
   "id": "f67f4960",
   "metadata": {},
   "outputs": [],
   "source": [
    "with open(\"input\", \"r\") as f:\n",
    "    program = [line.strip().split() for line in f.readlines()]"
   ]
  },
  {
   "cell_type": "code",
   "execution_count": null,
   "id": "da025072",
   "metadata": {},
   "outputs": [],
   "source": [
    "subroutines = [program[i * 18: (i + 1) * 18] for i in range(14)]"
   ]
  },
  {
   "cell_type": "code",
   "execution_count": null,
   "id": "d30a834f",
   "metadata": {},
   "outputs": [],
   "source": [
    "in_params = []\n",
    "pairs = []\n",
    "for i, subroutine in enumerate(subroutines):\n",
    "    if subroutine[5][2][0] != '-':\n",
    "        in_params.append((i, int(subroutine[15][2])))\n",
    "    else:\n",
    "        in_param = in_params.pop()\n",
    "        pairs.append(((in_param[0], i), in_param[1] + int(subroutine[5][2])))"
   ]
  },
  {
   "cell_type": "markdown",
   "id": "b7367b37",
   "metadata": {},
   "source": [
    "### Part 1"
   ]
  },
  {
   "cell_type": "code",
   "execution_count": null,
   "id": "61c22c13",
   "metadata": {},
   "outputs": [],
   "source": [
    "number = [0] * 14\n",
    "\n",
    "for pair in pairs:\n",
    "    if pair[1] <= 0:\n",
    "        number[pair[0][0]] = 9\n",
    "        number[pair[0][1]] = 9 + pair[1]\n",
    "    else:\n",
    "        number[pair[0][1]] = 9\n",
    "        number[pair[0][0]] = 9 - pair[1]"
   ]
  },
  {
   "cell_type": "code",
   "execution_count": null,
   "id": "f08129da",
   "metadata": {},
   "outputs": [],
   "source": [
    "\"\".join(map(str, number))"
   ]
  },
  {
   "cell_type": "markdown",
   "id": "576a944e",
   "metadata": {},
   "source": [
    "### Part 2"
   ]
  },
  {
   "cell_type": "code",
   "execution_count": null,
   "id": "ae8850c5",
   "metadata": {},
   "outputs": [],
   "source": [
    "number = [0] * 14\n",
    "\n",
    "for pair in pairs:\n",
    "    if pair[1] > 0:\n",
    "        number[pair[0][0]] = 1\n",
    "        number[pair[0][1]] = 1 + pair[1]\n",
    "    else:\n",
    "        number[pair[0][1]] = 1\n",
    "        number[pair[0][0]] = 1 - pair[1]  "
   ]
  },
  {
   "cell_type": "code",
   "execution_count": null,
   "id": "58929b38",
   "metadata": {},
   "outputs": [],
   "source": [
    "\"\".join(map(str, number))"
   ]
  }
 ],
 "metadata": {
  "kernelspec": {
   "display_name": "Python 3 (ipykernel)",
   "language": "python",
   "name": "python3"
  },
  "language_info": {
   "codemirror_mode": {
    "name": "ipython",
    "version": 3
   },
   "file_extension": ".py",
   "mimetype": "text/x-python",
   "name": "python",
   "nbconvert_exporter": "python",
   "pygments_lexer": "ipython3",
   "version": "3.9.7"
  }
 },
 "nbformat": 4,
 "nbformat_minor": 5
}
