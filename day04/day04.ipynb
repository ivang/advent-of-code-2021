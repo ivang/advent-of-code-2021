{
 "cells": [
  {
   "cell_type": "code",
   "execution_count": null,
   "id": "a267a934",
   "metadata": {},
   "outputs": [],
   "source": [
    "import numpy as np"
   ]
  },
  {
   "cell_type": "code",
   "execution_count": null,
   "id": "21bf1347",
   "metadata": {},
   "outputs": [],
   "source": [
    "with open(\"input\", \"r\") as f:\n",
    "    lines = list(map(str.strip, f.readlines()))"
   ]
  },
  {
   "cell_type": "code",
   "execution_count": null,
   "id": "00df4a3d",
   "metadata": {},
   "outputs": [],
   "source": [
    "draw = np.array(lines[0].split(\",\"), dtype=int)"
   ]
  },
  {
   "cell_type": "code",
   "execution_count": null,
   "id": "4857ffbb",
   "metadata": {},
   "outputs": [],
   "source": [
    "card_height = 5\n",
    "\n",
    "cards = []\n",
    "for i in range(2, len(lines) - card_height + 1, card_height + 1):\n",
    "    cards.append(np.matrix([line.split() for line in lines[i:i + card_height]], dtype=int))\n",
    "ncard = np.array(cards)"
   ]
  },
  {
   "cell_type": "code",
   "execution_count": null,
   "id": "d4a7cc84",
   "metadata": {},
   "outputs": [],
   "source": [
    "def is_in_draw(draw):\n",
    "    def x_in_draw(x):\n",
    "        return x in draw\n",
    "    return x_in_draw\n",
    "\n",
    "def we_have_got_bingo(ncard, in_draw_fn):\n",
    "    return in_draw_fn(ncard).all(1).any() or in_draw_fn(ncard).all(2).any()\n",
    "\n",
    "def we_have_got_unbingo(ncard, in_draw_fn):\n",
    "    return (in_draw(ncard).all(2).any(1) + in_draw(ncard).all(1).any(1)).all()"
   ]
  },
  {
   "cell_type": "markdown",
   "id": "34170ee1",
   "metadata": {},
   "source": [
    "### Part 1"
   ]
  },
  {
   "cell_type": "code",
   "execution_count": null,
   "id": "7c0df7de",
   "metadata": {},
   "outputs": [],
   "source": [
    "for i in range(5, len(draw)):\n",
    "    in_draw = np.vectorize(is_in_draw(draw[:i]))\n",
    "    if we_have_got_bingo(ncard, in_draw):\n",
    "        break"
   ]
  },
  {
   "cell_type": "code",
   "execution_count": null,
   "id": "1fb47b42",
   "metadata": {},
   "outputs": [],
   "source": [
    "winning_condition = in_draw(ncard).all(2).any(1) + in_draw(ncard).all(1).any(1)\n",
    "winning_card = ncard[np.where(winning_condition)[0][0]]"
   ]
  },
  {
   "cell_type": "code",
   "execution_count": null,
   "id": "8733f166",
   "metadata": {},
   "outputs": [],
   "source": [
    "np.where(in_draw(winning_card), np.zeros(card_height, int), winning_card).sum() * draw[i-1]"
   ]
  },
  {
   "cell_type": "markdown",
   "id": "e2e1aa70",
   "metadata": {},
   "source": [
    "### Part 2"
   ]
  },
  {
   "cell_type": "code",
   "execution_count": null,
   "id": "fc5ee504",
   "metadata": {},
   "outputs": [],
   "source": [
    "for i in range(len(draw), 5, -1):\n",
    "    in_draw = np.vectorize(is_in_draw(draw[:i]))\n",
    "    if not we_have_got_unbingo(ncard, in_draw):\n",
    "        break"
   ]
  },
  {
   "cell_type": "code",
   "execution_count": null,
   "id": "57825f20",
   "metadata": {},
   "outputs": [],
   "source": [
    "losing_condition = (in_draw(ncard).all(1) == False).all(1) * (in_draw(ncard).all(2) == False).all(1)\n",
    "losing_card = ncard[np.where(losing_condition)]\n",
    "in_draw = np.vectorize(is_in_draw(draw[:i + 1]))"
   ]
  },
  {
   "cell_type": "code",
   "execution_count": null,
   "id": "14530853",
   "metadata": {},
   "outputs": [],
   "source": [
    "np.where(in_draw(losing_card), np.zeros(card_height, int), losing_card).sum() * draw[i]"
   ]
  }
 ],
 "metadata": {
  "kernelspec": {
   "display_name": "Python 3",
   "language": "python",
   "name": "python3"
  },
  "language_info": {
   "codemirror_mode": {
    "name": "ipython",
    "version": 3
   },
   "file_extension": ".py",
   "mimetype": "text/x-python",
   "name": "python",
   "nbconvert_exporter": "python",
   "pygments_lexer": "ipython3",
   "version": "3.7.9"
  }
 },
 "nbformat": 4,
 "nbformat_minor": 5
}
