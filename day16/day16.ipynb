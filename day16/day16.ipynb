{
 "cells": [
  {
   "cell_type": "code",
   "execution_count": 110,
   "id": "51f93768",
   "metadata": {},
   "outputs": [],
   "source": []
  },
  {
   "cell_type": "code",
   "execution_count": 713,
   "id": "6f491e1c",
   "metadata": {},
   "outputs": [],
   "source": [
    "from functools import reduce"
   ]
  },
  {
   "cell_type": "code",
   "execution_count": 745,
   "id": "3f928880",
   "metadata": {},
   "outputs": [],
   "source": [
    "def hex2bin(hex_string):\n",
    "    unfilled = bin(int(hex_string, 16))[2:]\n",
    "    return ((hex_string[0] == '0') * 4 * '0'\n",
    "            + (4 - len(unfilled) % 4) * (len(unfilled) % 4 != 0) * '0'\n",
    "            + unfilled)"
   ]
  },
  {
   "cell_type": "code",
   "execution_count": 630,
   "id": "0f0fe7e1",
   "metadata": {},
   "outputs": [],
   "source": [
    "def process_literal(literal):\n",
    "    if literal[0] == '0':\n",
    "        return literal[1:5], literal[5:]\n",
    "    \n",
    "    bitstring, remnant = process_literal(literal[5:])\n",
    "    return literal[1:5] + bitstring, remnant"
   ]
  },
  {
   "cell_type": "code",
   "execution_count": 751,
   "id": "8d074732",
   "metadata": {},
   "outputs": [],
   "source": [
    "def calc_version(iterable):\n",
    "    ver = iterable[0]\n",
    "    \n",
    "    if not hasattr(iterable[2], \"__iter__\"):\n",
    "        return iterable[0]\n",
    "    \n",
    "    return sum(calc_version(x) for x in iterable[2]) + ver\n"
   ]
  },
  {
   "cell_type": "code",
   "execution_count": 1050,
   "id": "a8ca98c7",
   "metadata": {},
   "outputs": [],
   "source": [
    "def process_packet(packet):\n",
    "    \n",
    "    values = []\n",
    "    \n",
    "    if len(packet) < 6 or all(d == '0' for d in packet):\n",
    "        return [], \"\"\n",
    "    \n",
    "    ver = packet[:3]\n",
    "    type_id = packet[3:6]\n",
    "    \n",
    "    if type_id == '100':\n",
    "        bitstr, remnant = process_literal(packet[6:])\n",
    "        values += [[int(x, 2) for x in (ver, type_id, bitstr)]]\n",
    "\n",
    "        return values, remnant\n",
    "\n",
    "    length_type_id = packet[6]\n",
    "    if length_type_id == '0':\n",
    "        length = int(packet[7:22], 2)\n",
    "        remnant = packet[22 + length:]\n",
    "\n",
    "        _remnant = packet[22:22 + length]\n",
    "\n",
    "        vals = []\n",
    "        while _remnant != \"\":\n",
    "            value, _remnant = process_packet(_remnant)\n",
    "            vals += value\n",
    "        values += [[int(ver, 2), int(type_id, 2), vals]]\n",
    "\n",
    "        remnant = _remnant + remnant\n",
    "\n",
    "    else:\n",
    "        n_packets = int(packet[7:18], 2)\n",
    "        remnant = packet[18:]\n",
    "        vals = []\n",
    "        for i in range(n_packets):\n",
    "            value, remnant = process_packet(remnant)\n",
    "\n",
    "            vals += value\n",
    "        values += [[int(ver, 2), int(type_id, 2), vals]]\n",
    "    \n",
    "    return values, remnant"
   ]
  },
  {
   "cell_type": "code",
   "execution_count": 1016,
   "id": "a002d5a4",
   "metadata": {},
   "outputs": [],
   "source": [
    "with open(\"input\", \"r\") as f:\n",
    "    line = f.readline()"
   ]
  },
  {
   "cell_type": "code",
   "execution_count": 1055,
   "id": "badc78ba",
   "metadata": {},
   "outputs": [],
   "source": [
    "msg = hex2bin(line)\n",
    "v, r = process_packet(msg)"
   ]
  },
  {
   "cell_type": "markdown",
   "id": "6b8e61bc",
   "metadata": {},
   "source": [
    "### Part 1"
   ]
  },
  {
   "cell_type": "code",
   "execution_count": null,
   "id": "0b2fdff8",
   "metadata": {},
   "outputs": [],
   "source": [
    "calc_version(v[0])"
   ]
  },
  {
   "cell_type": "markdown",
   "id": "3f6dbb77",
   "metadata": {},
   "source": [
    "### Part 2"
   ]
  },
  {
   "cell_type": "code",
   "execution_count": 955,
   "id": "128bd8ba",
   "metadata": {},
   "outputs": [],
   "source": [
    "operator = {\n",
    "    0: lambda x, y=0: x + y,\n",
    "    1: lambda x, y=1: x * y,\n",
    "    2: min,\n",
    "    3: max,\n",
    "    4: lambda x: x,\n",
    "    5: lambda x, y: int(x > y),\n",
    "    6: lambda x, y: int(x < y),\n",
    "    7: lambda x, y: int(x == y),\n",
    "}"
   ]
  },
  {
   "cell_type": "code",
   "execution_count": 956,
   "id": "873f65ac",
   "metadata": {},
   "outputs": [],
   "source": [
    "def do_operation(iterable):\n",
    "    if not hasattr(iterable[2], \"__iter__\"):\n",
    "        return iterable[2]\n",
    "    \n",
    "    if iterable[1] in [0, 1]:\n",
    "        return reduce(operator[iterable[1]], map(do_operation, iterable[2]))\n",
    "    \n",
    "    if iterable[1] in [5, 6, 7]:\n",
    "        return operator[iterable[1]](*[do_operation(x) for x in iterable[2]])\n",
    "    \n",
    "    return operator[iterable[1]]([do_operation(x) for x in iterable[2]])"
   ]
  },
  {
   "cell_type": "code",
   "execution_count": 1058,
   "id": "0c23885b",
   "metadata": {},
   "outputs": [
    {
     "data": {
      "text/plain": [
       "1549026292886"
      ]
     },
     "execution_count": 1058,
     "metadata": {},
     "output_type": "execute_result"
    }
   ],
   "source": [
    "do_operation(v[0])"
   ]
  }
 ],
 "metadata": {
  "kernelspec": {
   "display_name": "Python 3 (ipykernel)",
   "language": "python",
   "name": "python3"
  },
  "language_info": {
   "codemirror_mode": {
    "name": "ipython",
    "version": 3
   },
   "file_extension": ".py",
   "mimetype": "text/x-python",
   "name": "python",
   "nbconvert_exporter": "python",
   "pygments_lexer": "ipython3",
   "version": "3.9.7"
  }
 },
 "nbformat": 4,
 "nbformat_minor": 5
}
