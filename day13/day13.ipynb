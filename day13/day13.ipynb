{
 "cells": [
  {
   "cell_type": "code",
   "execution_count": null,
   "id": "94fab153",
   "metadata": {},
   "outputs": [],
   "source": [
    "import numpy as np"
   ]
  },
  {
   "cell_type": "code",
   "execution_count": null,
   "id": "c98d7579",
   "metadata": {},
   "outputs": [],
   "source": [
    "_dots = []\n",
    "line = '_'\n",
    "\n",
    "with open(\"input\", \"r\") as f:\n",
    "    while line != \"\":\n",
    "        line = f.readline().strip()\n",
    "        if line != \"\":\n",
    "            _dots.append(tuple(map(int, line.split(\",\"))))\n",
    "    foldings = [(axis, int(coord))\n",
    "                for axis, coord in [line.strip().split()[2].split(\"=\")\n",
    "                                    for line in f.readlines()]]"
   ]
  },
  {
   "cell_type": "code",
   "execution_count": null,
   "id": "8367b7a7",
   "metadata": {},
   "outputs": [],
   "source": [
    "dots = np.array(_dots)\n",
    "\n",
    "x_max, y_max = dots.max(axis=0)\n",
    "\n",
    "sheet = np.zeros((y_max + 1, x_max + 1), dtype=bool)\n",
    "sheet[dots.T[1], dots.T[0]] = True\n",
    "\n",
    "axes = {\"y\": 0, \"x\": 1}"
   ]
  },
  {
   "cell_type": "markdown",
   "id": "1e0a6365",
   "metadata": {},
   "source": [
    "### Part 1"
   ]
  },
  {
   "cell_type": "code",
   "execution_count": null,
   "id": "23bd6de7",
   "metadata": {},
   "outputs": [],
   "source": [
    "axis, fold_idx = foldings[0]\n",
    "folding_1, fold, folding_2 = np.split(sheet, [fold_idx, fold_idx + 1], axis=axes[axis])\n",
    "np.sum(folding_1 | np.flip(folding_2, axis=axes[axis]))"
   ]
  },
  {
   "cell_type": "markdown",
   "id": "babb0ece",
   "metadata": {},
   "source": [
    "### Part 2"
   ]
  },
  {
   "cell_type": "code",
   "execution_count": null,
   "id": "ea77bf9e",
   "metadata": {},
   "outputs": [],
   "source": [
    "folding = sheet\n",
    "for axis, fold_idx in foldings:\n",
    "    folding_1, fold, folding_2 = np.split(folding, [fold_idx, fold_idx + 1], axis=axes[axis])\n",
    "    folding = folding_1 | np.flip(folding_2, axis=axes[axis])"
   ]
  },
  {
   "cell_type": "code",
   "execution_count": null,
   "id": "8402a677",
   "metadata": {},
   "outputs": [],
   "source": [
    "print(\"\\n\".join([\"\".join(line) for line in np.where(folding, '#', ' ').tolist()]))"
   ]
  }
 ],
 "metadata": {
  "kernelspec": {
   "display_name": "Python 3",
   "language": "python",
   "name": "python3"
  },
  "language_info": {
   "codemirror_mode": {
    "name": "ipython",
    "version": 3
   },
   "file_extension": ".py",
   "mimetype": "text/x-python",
   "name": "python",
   "nbconvert_exporter": "python",
   "pygments_lexer": "ipython3",
   "version": "3.7.9"
  }
 },
 "nbformat": 4,
 "nbformat_minor": 5
}
