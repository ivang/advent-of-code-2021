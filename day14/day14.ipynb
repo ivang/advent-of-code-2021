{
 "cells": [
  {
   "cell_type": "code",
   "execution_count": null,
   "id": "50abf988",
   "metadata": {},
   "outputs": [],
   "source": [
    "from functools import reduce"
   ]
  },
  {
   "cell_type": "code",
   "execution_count": null,
   "id": "ae7f939f",
   "metadata": {},
   "outputs": [],
   "source": [
    "def pairwise(a_string):\n",
    "    return iter([\"\".join(pair) for pair in zip(a_string, a_string[1:])])"
   ]
  },
  {
   "cell_type": "code",
   "execution_count": null,
   "id": "19145a3a",
   "metadata": {},
   "outputs": [],
   "source": [
    "def merge_occurances(occurance_1, occurance_2):\n",
    "    merged_occurance = occurance_1.copy()\n",
    "    for key in occurance_2:\n",
    "        merged_occurance[key] = merged_occurance.setdefault(key, 0) + occurance_2[key]\n",
    "    return merged_occurance"
   ]
  },
  {
   "cell_type": "code",
   "execution_count": null,
   "id": "4e29f266",
   "metadata": {},
   "outputs": [],
   "source": [
    "results = {}\n",
    "\n",
    "def polymerize(template, step=0):\n",
    "    occurances = {}\n",
    "    occurances[template[0]] = occurances.setdefault(template[0], 0) + 1\n",
    "    occurances[insertion_rules[template]] = occurances.setdefault(insertion_rules[template], 0) + 1\n",
    "    \n",
    "    if step <= 1:\n",
    "        return occurances\n",
    "    \n",
    "    if (template, step) not in results:\n",
    "        occurances_1 = polymerize(template[0] + insertion_rules[template], step - 1)\n",
    "        occurances_2 = polymerize(insertion_rules[template] + template[1], step - 1)\n",
    "        results[(template, step)] = merge_occurances(occurances_1, occurances_2)\n",
    "    \n",
    "    return results[(template, step)]"
   ]
  },
  {
   "cell_type": "code",
   "execution_count": null,
   "id": "dc4f059e",
   "metadata": {},
   "outputs": [],
   "source": [
    "with open(\"input\", \"r\") as f:\n",
    "    polymer_template = f.readline().strip()\n",
    "    _ = f.readline()\n",
    "    insertion_rules = {pair: insertion\n",
    "                       for pair, _, insertion in [line.strip().split() for line in f.readlines()]}"
   ]
  },
  {
   "cell_type": "code",
   "execution_count": null,
   "id": "61fc3107",
   "metadata": {},
   "outputs": [],
   "source": [
    "counter = reduce(lambda x, y: merge_occurances(x, y),\n",
    "                 [polymerize(pair, 10) for pair in pairwise(polymer_template)], {polymer_template[-1]: 1})\n",
    "\n",
    "(counter[max(counter, key=lambda x: counter[x])]\n",
    " - counter[min(counter, key=lambda x: counter[x])])"
   ]
  },
  {
   "cell_type": "code",
   "execution_count": null,
   "id": "c7af5e88",
   "metadata": {},
   "outputs": [],
   "source": [
    "counter = reduce(lambda x, y: merge_occurances(x, y),\n",
    "                 [polymerize(pair, 40) for pair in pairwise(polymer_template)], {polymer_template[-1]: 1})\n",
    "\n",
    "(counter[max(counter, key=lambda x: counter[x])]\n",
    " - counter[min(counter, key=lambda x: counter[x])])"
   ]
  }
 ],
 "metadata": {
  "kernelspec": {
   "display_name": "Python 3 (ipykernel)",
   "language": "python",
   "name": "python3"
  },
  "language_info": {
   "codemirror_mode": {
    "name": "ipython",
    "version": 3
   },
   "file_extension": ".py",
   "mimetype": "text/x-python",
   "name": "python",
   "nbconvert_exporter": "python",
   "pygments_lexer": "ipython3",
   "version": "3.9.7"
  }
 },
 "nbformat": 4,
 "nbformat_minor": 5
}
