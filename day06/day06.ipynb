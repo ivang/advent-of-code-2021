{
 "cells": [
  {
   "cell_type": "code",
   "execution_count": 499,
   "id": "3bfeabe5",
   "metadata": {},
   "outputs": [],
   "source": [
    "with open(\"input\", \"r\") as f:\n",
    "    initial_population = [int(fish) for fish in f.readline().split(\",\")]"
   ]
  },
  {
   "cell_type": "code",
   "execution_count": 510,
   "id": "fc005ce6",
   "metadata": {},
   "outputs": [],
   "source": [
    "results = {}\n",
    "\n",
    "def divide(n): \n",
    "    if n <= 7:\n",
    "        return 2\n",
    "    if n <= 9:\n",
    "        return 3\n",
    "    if n not in results:\n",
    "        results[n] = split(n - 7) + split(n - 9)\n",
    "    return results[n]\n",
    "\n",
    "def count_fish(n_days, population):\n",
    "    return sum(divi(n_days - fish_age) for fish_age in initial_population)"
   ]
  },
  {
   "cell_type": "markdown",
   "id": "47820a39",
   "metadata": {},
   "source": [
    "### Part 1"
   ]
  },
  {
   "cell_type": "code",
   "execution_count": 511,
   "id": "353010c4",
   "metadata": {},
   "outputs": [
    {
     "data": {
      "text/plain": [
       "374927"
      ]
     },
     "execution_count": 511,
     "metadata": {},
     "output_type": "execute_result"
    }
   ],
   "source": [
    "count_fish(n_days=80, population=initial_population)"
   ]
  },
  {
   "cell_type": "markdown",
   "id": "e7a34397",
   "metadata": {},
   "source": [
    "### Part 2"
   ]
  },
  {
   "cell_type": "code",
   "execution_count": 513,
   "id": "9b208da0",
   "metadata": {},
   "outputs": [
    {
     "data": {
      "text/plain": [
       "1687617803407"
      ]
     },
     "execution_count": 513,
     "metadata": {},
     "output_type": "execute_result"
    }
   ],
   "source": [
    "count_fish(n_days=256, population=initial_population)"
   ]
  }
 ],
 "metadata": {
  "kernelspec": {
   "display_name": "Python 3",
   "language": "python",
   "name": "python3"
  },
  "language_info": {
   "codemirror_mode": {
    "name": "ipython",
    "version": 3
   },
   "file_extension": ".py",
   "mimetype": "text/x-python",
   "name": "python",
   "nbconvert_exporter": "python",
   "pygments_lexer": "ipython3",
   "version": "3.7.9"
  }
 },
 "nbformat": 4,
 "nbformat_minor": 5
}
