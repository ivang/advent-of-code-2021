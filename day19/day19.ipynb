{
 "cells": [
  {
   "cell_type": "code",
   "execution_count": null,
   "id": "69204c42",
   "metadata": {},
   "outputs": [],
   "source": [
    "import numpy as np\n",
    "from itertools import permutations, combinations"
   ]
  },
  {
   "cell_type": "code",
   "execution_count": null,
   "id": "2ac559f8",
   "metadata": {},
   "outputs": [],
   "source": [
    "def make_rotations():\n",
    "    rotations = []\n",
    "    for x in np.concatenate((np.eye(3), -np.eye(3))):\n",
    "        for i in range(3):\n",
    "            if x[i] == 0:\n",
    "                y = np.zeros(3)\n",
    "                y[i] = 1\n",
    "                z = np.cross(x, y)\n",
    "                rotations.append(np.array([x, y, z]))\n",
    "                \n",
    "                y[i] = -1\n",
    "                z = np.cross(x, y)\n",
    "                rotations.append(np.array([x, y, z]))\n",
    "                \n",
    "    return np.array(rotations, dtype=int) "
   ]
  },
  {
   "cell_type": "code",
   "execution_count": null,
   "id": "ae84534a",
   "metadata": {},
   "outputs": [],
   "source": [
    "def common_beacons(scanner1, scanner2):\n",
    "    count = 0\n",
    "    for b in scanner1:\n",
    "        if np.any(np.all(b == scanner2, axis=1)):\n",
    "            count += 1\n",
    "    return count"
   ]
  },
  {
   "cell_type": "code",
   "execution_count": null,
   "id": "236a4a58",
   "metadata": {},
   "outputs": [],
   "source": [
    "def find_rotation(scanner1, scanner2, rotations):\n",
    "    for rotation in rotations:\n",
    "        rot_scanner = scanner2.dot(rotation)\n",
    "        for beacon1 in scanner1:\n",
    "            common = 0\n",
    "            s1_beacon = scanner1 - beacon1\n",
    "            for beacon2 in rot_scanner:\n",
    "                s2_beacon = rot_scanner - beacon2\n",
    "                common = common_beacons(s1_beacon, s2_beacon)\n",
    "                if common >= 12:\n",
    "                    return rotation, beacon1 - beacon2\n",
    "    return 0, 0"
   ]
  },
  {
   "cell_type": "code",
   "execution_count": null,
   "id": "dc441bcd",
   "metadata": {},
   "outputs": [],
   "source": [
    "scanners = {}\n",
    "\n",
    "with open(\"input\", \"r\") as f:\n",
    "    while line := f.readline():\n",
    "        if line == \"\\n\":\n",
    "            scanners[scanner_name] = np.array(temp_scanner)\n",
    "            continue\n",
    "        if line[:3] == '---':\n",
    "            scanner_name = line.strip().split()[2]\n",
    "            temp_scanner = []\n",
    "            continue\n",
    "        temp_scanner.append([int(num) for num in line.strip().split(',')])\n",
    "    scanners[scanner_name] = np.array(temp_scanner)"
   ]
  },
  {
   "cell_type": "code",
   "execution_count": null,
   "id": "efaddbd1",
   "metadata": {},
   "outputs": [],
   "source": [
    "rotations = make_rotations()\n",
    "processed = {\"0\": scanners[\"0\"]}\n",
    "scanner_coords = {\"0\": np.zeros(3)}"
   ]
  },
  {
   "cell_type": "markdown",
   "id": "ff5f5126",
   "metadata": {},
   "source": [
    "### Part 1"
   ]
  },
  {
   "cell_type": "code",
   "execution_count": null,
   "id": "12e309ce",
   "metadata": {},
   "outputs": [],
   "source": [
    "while len(processed.keys()) < len(scanners.keys()):\n",
    "    for scanner1, scanner2 in permutations(scanners, 2):\n",
    "        if scanner2 in processed or scanner1 not in processed:\n",
    "            continue    \n",
    "\n",
    "        rot, coords = find_rotation(processed[scanner1],\n",
    "                                    scanners[scanner2],\n",
    "                                    rotations)\n",
    "        if not hasattr(rot, \"__iter__\"):\n",
    "            continue\n",
    "\n",
    "        scanner_coords[scanner2] = coords\n",
    "        processed[scanner2] = scanners[scanner2].dot(rot) + coords   "
   ]
  },
  {
   "cell_type": "code",
   "execution_count": null,
   "id": "30ce5610",
   "metadata": {},
   "outputs": [],
   "source": [
    "processed_tuples = list(map(tuple, np.vstack(list(processed.values()))))"
   ]
  },
  {
   "cell_type": "code",
   "execution_count": null,
   "id": "ecb0d544",
   "metadata": {},
   "outputs": [],
   "source": [
    "len(set(processed_tuples))"
   ]
  },
  {
   "cell_type": "markdown",
   "id": "f9668c76",
   "metadata": {},
   "source": [
    "### Part 2"
   ]
  },
  {
   "cell_type": "code",
   "execution_count": null,
   "id": "b9be23e8",
   "metadata": {},
   "outputs": [],
   "source": [
    "def manhattan(point1, point2):\n",
    "    return sum(abs(x1 - x2) for x1, x2 in zip(point1, point2))"
   ]
  },
  {
   "cell_type": "code",
   "execution_count": null,
   "id": "0eb30d86",
   "metadata": {},
   "outputs": [],
   "source": [
    "max(manhattan(point1, point2) for point1, point2 in combinations(scanner_coords.values(), 2))"
   ]
  }
 ],
 "metadata": {
  "kernelspec": {
   "display_name": "Python 3 (ipykernel)",
   "language": "python",
   "name": "python3"
  },
  "language_info": {
   "codemirror_mode": {
    "name": "ipython",
    "version": 3
   },
   "file_extension": ".py",
   "mimetype": "text/x-python",
   "name": "python",
   "nbconvert_exporter": "python",
   "pygments_lexer": "ipython3",
   "version": "3.9.7"
  }
 },
 "nbformat": 4,
 "nbformat_minor": 5
}
