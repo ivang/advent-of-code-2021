{
 "cells": [
  {
   "cell_type": "code",
   "execution_count": null,
   "id": "10e7aef9",
   "metadata": {},
   "outputs": [],
   "source": [
    "with open(\"input\", \"r\") as f:\n",
    "    lines = f.readlines()\n",
    "measurements = list(map(str.strip, lines))"
   ]
  },
  {
   "cell_type": "markdown",
   "id": "d37278d0",
   "metadata": {},
   "source": [
    "### Part 1"
   ]
  },
  {
   "cell_type": "code",
   "execution_count": null,
   "id": "ef50d0bf",
   "metadata": {},
   "outputs": [],
   "source": [
    "def most_common_bits(binary_list):\n",
    "    return [int(n >= len(binary_list) // 2) for n in map(sum, [map(int, t) for t in zip(*binary_list)])]"
   ]
  },
  {
   "cell_type": "code",
   "execution_count": null,
   "id": "76f11b05",
   "metadata": {},
   "outputs": [],
   "source": [
    "gamma_bin = \"\".join(map(str, most_common_bits(measurements)))\n",
    "gamma = int(gamma_bin, 2)\n",
    "epsilon = (gamma ^ int('1' * len(gamma_bin), 2))"
   ]
  },
  {
   "cell_type": "code",
   "execution_count": null,
   "id": "b20c037b",
   "metadata": {},
   "outputs": [],
   "source": [
    "gamma * epsilon"
   ]
  },
  {
   "cell_type": "markdown",
   "id": "33f7ef3f",
   "metadata": {},
   "source": [
    "### Part 2"
   ]
  },
  {
   "cell_type": "code",
   "execution_count": null,
   "id": "9a08a6ee",
   "metadata": {},
   "outputs": [],
   "source": [
    "def most_common_significant_bit(bin_list, degree):\n",
    "    return int(sum(map(int, list(zip(*bin_list))[degree])) > (len(bin_list) - 1) // 2)"
   ]
  },
  {
   "cell_type": "code",
   "execution_count": null,
   "id": "bc936ec3",
   "metadata": {},
   "outputs": [],
   "source": [
    "bin_list = measurements\n",
    "i = 0\n",
    "while len(bin_list) > 1:\n",
    "    b = most_common_significant_bit(bin_list, i)\n",
    "    bin_list = [m for m in bin_list if int(m[i]) == b]\n",
    "    i += 1\n",
    "oxy = int(bin_list[0], 2)"
   ]
  },
  {
   "cell_type": "code",
   "execution_count": null,
   "id": "a7a1dbf5",
   "metadata": {},
   "outputs": [],
   "source": [
    "bin_list = measurements\n",
    "i = 0\n",
    "while len(bin_list) > 1:\n",
    "    b = 1 ^ most_common_significant_bit(bin_list, i)\n",
    "    bin_list = [m for m in bin_list if int(m[i]) == b]\n",
    "    i += 1\n",
    "co2 = int(bin_list[0], 2)"
   ]
  },
  {
   "cell_type": "code",
   "execution_count": null,
   "id": "24915702",
   "metadata": {},
   "outputs": [],
   "source": [
    "oxy * co2"
   ]
  }
 ],
 "metadata": {
  "kernelspec": {
   "display_name": "Python 3",
   "language": "python",
   "name": "python3"
  },
  "language_info": {
   "codemirror_mode": {
    "name": "ipython",
    "version": 3
   },
   "file_extension": ".py",
   "mimetype": "text/x-python",
   "name": "python",
   "nbconvert_exporter": "python",
   "pygments_lexer": "ipython3",
   "version": "3.7.9"
  }
 },
 "nbformat": 4,
 "nbformat_minor": 5
}
