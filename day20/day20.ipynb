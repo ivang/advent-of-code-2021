{
 "cells": [
  {
   "cell_type": "code",
   "execution_count": null,
   "id": "8c449905",
   "metadata": {},
   "outputs": [],
   "source": [
    "from itertools import product"
   ]
  },
  {
   "cell_type": "code",
   "execution_count": null,
   "id": "1c5dd963",
   "metadata": {},
   "outputs": [],
   "source": [
    "def get_neighbours(img, pixel, default):\n",
    "    return [str(img[pixel[0] + x][pixel[1] + y])\n",
    "            if (0 <= pixel[0] + x < len(img) and 0 <= pixel[1] + y < len(img[0]))\n",
    "            else default\n",
    "            for x, y in product(range(-1, 2), repeat=2)]"
   ]
  },
  {
   "cell_type": "code",
   "execution_count": null,
   "id": "36518034",
   "metadata": {},
   "outputs": [],
   "source": [
    "def apply_filter(img, bit_filter, i):\n",
    "    if i == 0 or bit_filter[0] == '0':\n",
    "        default = \"0\"\n",
    "    else:\n",
    "        default = bit_filter[-1 * ((i + 1) % 2)]\n",
    "\n",
    "    return [\"\".join([bit_filter[int(\"\".join(get_neighbours(img, (x, y), default)), 2)]\n",
    "                     for y in range(-1, len(img) + 1)])\n",
    "            for x in range(-1, len(img[0]) + 1)]"
   ]
  },
  {
   "cell_type": "code",
   "execution_count": null,
   "id": "653e7001",
   "metadata": {},
   "outputs": [],
   "source": [
    "def to_bin(a_string):\n",
    "    return a_string.replace(\"#\", \"1\").replace(\".\", \"0\")"
   ]
  },
  {
   "cell_type": "code",
   "execution_count": null,
   "id": "2e979c0f",
   "metadata": {},
   "outputs": [],
   "source": [
    "with open(\"input\", \"r\") as f:\n",
    "    bit_filter = to_bin(f.readline().strip())\n",
    "    f.readline()\n",
    "    img = [to_bin(line.strip()) for line in f.readlines()]"
   ]
  },
  {
   "cell_type": "markdown",
   "id": "7b29fbe2",
   "metadata": {},
   "source": [
    "### Part 1"
   ]
  },
  {
   "cell_type": "code",
   "execution_count": null,
   "id": "e88c0c74",
   "metadata": {},
   "outputs": [],
   "source": [
    "new_img = img\n",
    "for i in range(2):\n",
    "    new_img = apply_filter(new_img, bit_filter, i)\n",
    "sum(int(n) for row in new_img for n in list(row))"
   ]
  },
  {
   "cell_type": "markdown",
   "id": "f0a84e58",
   "metadata": {},
   "source": [
    "### Part 2"
   ]
  },
  {
   "cell_type": "code",
   "execution_count": null,
   "id": "e75e399c",
   "metadata": {},
   "outputs": [],
   "source": [
    "new_img = img\n",
    "for i in range(50):\n",
    "    new_img = apply_filter(new_img, bit_filter, i)\n",
    "sum(int(n) for row in new_img for n in list(row))"
   ]
  },
  {
   "cell_type": "markdown",
   "id": "bdd49a5e",
   "metadata": {},
   "source": [
    "### Alternative"
   ]
  },
  {
   "cell_type": "code",
   "execution_count": null,
   "id": "b99d1764",
   "metadata": {},
   "outputs": [],
   "source": [
    "cache = {}\n",
    "\n",
    "def get_pixel(k, x, y):\n",
    "    if k == 0:\n",
    "        if 0 <= x < len(img) and 0 <= y < len(img[0]):\n",
    "            return img[x][y]\n",
    "        return \"0\"\n",
    "    \n",
    "    if (k, x, y) in cache:\n",
    "        return cache[(k, x, y)]\n",
    "    \n",
    "    i = 0\n",
    "    for dx, dy in product(range(-1, 2), repeat=2):\n",
    "        i = (i << 1) + int(get_pixel(k - 1, x + dx, y + dy))\n",
    "    cache[(k, x, y)] = bit_filter[i]\n",
    "    return bit_filter[i]"
   ]
  },
  {
   "cell_type": "code",
   "execution_count": null,
   "id": "49b2d32d",
   "metadata": {},
   "outputs": [],
   "source": [
    "def count_bits(k):\n",
    "    return sum(int(get_pixel(k, x, y))\n",
    "               for x in range(-k, len(img) + k)\n",
    "               for y in range(-k, len(img[0]) + k))"
   ]
  },
  {
   "cell_type": "code",
   "execution_count": null,
   "id": "380de956",
   "metadata": {},
   "outputs": [],
   "source": [
    "count_bits(50)"
   ]
  }
 ],
 "metadata": {
  "kernelspec": {
   "display_name": "Python 3 (ipykernel)",
   "language": "python",
   "name": "python3"
  },
  "language_info": {
   "codemirror_mode": {
    "name": "ipython",
    "version": 3
   },
   "file_extension": ".py",
   "mimetype": "text/x-python",
   "name": "python",
   "nbconvert_exporter": "python",
   "pygments_lexer": "ipython3",
   "version": "3.9.7"
  }
 },
 "nbformat": 4,
 "nbformat_minor": 5
}
