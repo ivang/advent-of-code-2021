{
 "cells": [
  {
   "cell_type": "code",
   "execution_count": null,
   "id": "3c53014d",
   "metadata": {},
   "outputs": [],
   "source": [
    "from itertools import product\n",
    "import numpy as np"
   ]
  },
  {
   "cell_type": "code",
   "execution_count": null,
   "id": "49be90d1",
   "metadata": {},
   "outputs": [],
   "source": [
    "def is_within_bounds(point, bounds):\n",
    "    x, y = point\n",
    "    x_bounds, y_bounds = bounds\n",
    "    return x_bounds[0] <= x <= x_bounds[1] and y_bounds[0] <= y <= y_bounds[1]"
   ]
  },
  {
   "cell_type": "code",
   "execution_count": null,
   "id": "eb4125f6",
   "metadata": {},
   "outputs": [],
   "source": [
    "def do_step(octopuses):\n",
    "    bounds = [[0, len(_octopuses) - 1],\n",
    "              [0, len(_octopuses[0]) - 1]]\n",
    "    \n",
    "    octopuses += 1\n",
    "    \n",
    "    new_flashers = octopuses == 10\n",
    "    all_flashers = new_flashers\n",
    "    \n",
    "    while np.sum(new_flashers) > 0:\n",
    "        all_flashers |= new_flashers\n",
    "        for i, j in np.column_stack(new_flashers.nonzero()):\n",
    "            for i0, j0 in product(range(-1, 2), repeat=2):\n",
    "                if ((i0, j0) != (0, 0)\n",
    "                    and is_within_bounds((i + i0, j + j0), bounds)\n",
    "                    and octopuses[i + i0, j + j0] != 10):\n",
    "                    octopuses[i + i0, j + j0] += 1\n",
    "        new_flashers = all_flashers ^ (octopuses == 10)\n",
    "\n",
    "    octopuses = np.where(octopuses == 10, 0, octopuses)\n",
    "    \n",
    "    return octopuses, np.sum(all_flashers)"
   ]
  },
  {
   "cell_type": "code",
   "execution_count": null,
   "id": "1215344a",
   "metadata": {},
   "outputs": [],
   "source": [
    "with open(\"input\", \"r\") as f:\n",
    "    _octopuses = [[int(octopus) for octopus in list(line.strip())] for line in f.readlines()]\n",
    "\n",
    "octopuses = np.matrix(_octopuses)"
   ]
  },
  {
   "cell_type": "markdown",
   "id": "3ae65757",
   "metadata": {},
   "source": [
    "### Part 1"
   ]
  },
  {
   "cell_type": "code",
   "execution_count": null,
   "id": "769c2360",
   "metadata": {},
   "outputs": [],
   "source": [
    "flashes = 0\n",
    "for step in range(100):\n",
    "    octopuses, flashes_in_step = do_step(octopuses)\n",
    "    flashes += flashes_in_step\n",
    "flashes\n"
   ]
  },
  {
   "cell_type": "markdown",
   "id": "26dda11d",
   "metadata": {},
   "source": [
    "### Part 2"
   ]
  },
  {
   "cell_type": "code",
   "execution_count": null,
   "id": "bb9f05ea",
   "metadata": {},
   "outputs": [],
   "source": [
    "flashes_in_step = 0\n",
    "step = 0\n",
    "octopuses = np.matrix(_octopuses)\n",
    "\n",
    "while flashes_in_step != 100:\n",
    "    step += 1\n",
    "    octopuses, flashes_in_step = do_step(octopuses)\n",
    "step"
   ]
  }
 ],
 "metadata": {
  "kernelspec": {
   "display_name": "Python 3",
   "language": "python",
   "name": "python3"
  },
  "language_info": {
   "codemirror_mode": {
    "name": "ipython",
    "version": 3
   },
   "file_extension": ".py",
   "mimetype": "text/x-python",
   "name": "python",
   "nbconvert_exporter": "python",
   "pygments_lexer": "ipython3",
   "version": "3.7.9"
  }
 },
 "nbformat": 4,
 "nbformat_minor": 5
}
