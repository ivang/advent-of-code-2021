{
 "cells": [
  {
   "cell_type": "code",
   "execution_count": null,
   "id": "25e54f21",
   "metadata": {},
   "outputs": [],
   "source": [
    "with open(\"input\", \"r\") as f:\n",
    "    lines = [line.strip().split('|') for line in f.readlines()]"
   ]
  },
  {
   "cell_type": "code",
   "execution_count": null,
   "id": "303a499f",
   "metadata": {},
   "outputs": [],
   "source": [
    "kv_list = [(k.split(), v.split()) for k, v in lines]"
   ]
  },
  {
   "cell_type": "markdown",
   "id": "c5afcaa2",
   "metadata": {},
   "source": [
    "### Part 1"
   ]
  },
  {
   "cell_type": "code",
   "execution_count": null,
   "id": "fc6b1210",
   "metadata": {},
   "outputs": [],
   "source": [
    "keys, values = zip(*kv_list)\n",
    "sum(len(digit) in [2, 3, 4, 7] for value in values for digit in value)"
   ]
  },
  {
   "cell_type": "markdown",
   "id": "7fd09857",
   "metadata": {},
   "source": [
    "### Part 2"
   ]
  },
  {
   "cell_type": "code",
   "execution_count": null,
   "id": "9018c758",
   "metadata": {},
   "outputs": [],
   "source": [
    "from itertools import permutations"
   ]
  },
  {
   "cell_type": "code",
   "execution_count": null,
   "id": "e9fb0424",
   "metadata": {},
   "outputs": [],
   "source": [
    "def decode(digits, encoded_value):\n",
    "    known_by_len = {2: 1, 3: 7, 4: 4, 7: 8}\n",
    "\n",
    "    known_digits = [digit for digit in digits if len(digit) in known_by_len.keys()]\n",
    "    unknown_digits = [digit for digit in digits if len(digit) not in known_by_len.keys()]\n",
    "\n",
    "    enc = {known_by_len[len(digit)]: set(digit) for digit in known_digits}\n",
    "\n",
    "    by_len = {}\n",
    "    for digit in unknown_digits:\n",
    "        if len(digit) not in by_len:\n",
    "            by_len[len(digit)] = []\n",
    "        by_len[len(digit)].append(set(digit))\n",
    "\n",
    "    for combo in permutations(by_len[5], 3):\n",
    "        if combo[0].union(combo[1]) in by_len[6]:\n",
    "            enc[9] = combo[0].union(combo[1])\n",
    "            enc[2] = combo[2]\n",
    "            for d in combo[:2]:\n",
    "                if d.union(enc[2]) == enc[8]:\n",
    "                    enc[5] = d\n",
    "                else:\n",
    "                    enc[3] = d\n",
    "                    \n",
    "    for digit in by_len[6]:\n",
    "        if digit.union(enc[7]) == enc[8]:\n",
    "            enc[6] = digit\n",
    "        elif len(digit ^ enc[9]) != 0:\n",
    "            enc[0] = digit\n",
    "            \n",
    "    return \"\".join([str(i) for digit in encoded_value for i in enc if enc[i] == set(digit)])"
   ]
  },
  {
   "cell_type": "code",
   "execution_count": null,
   "id": "37dd78ef",
   "metadata": {},
   "outputs": [],
   "source": [
    "sum(map(int, [decode(key, value) for key, value in kv_list]))"
   ]
  }
 ],
 "metadata": {
  "kernelspec": {
   "display_name": "Python 3",
   "language": "python",
   "name": "python3"
  },
  "language_info": {
   "codemirror_mode": {
    "name": "ipython",
    "version": 3
   },
   "file_extension": ".py",
   "mimetype": "text/x-python",
   "name": "python",
   "nbconvert_exporter": "python",
   "pygments_lexer": "ipython3",
   "version": "3.7.9"
  }
 },
 "nbformat": 4,
 "nbformat_minor": 5
}
