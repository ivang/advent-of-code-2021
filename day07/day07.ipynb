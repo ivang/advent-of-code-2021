{
 "cells": [
  {
   "cell_type": "code",
   "execution_count": null,
   "id": "19531b27",
   "metadata": {},
   "outputs": [],
   "source": [
    "with open(\"input\", \"r\") as f:\n",
    "    positions = [int(position) for position in f.readline().strip().split(\",\")]"
   ]
  },
  {
   "cell_type": "code",
   "execution_count": null,
   "id": "b1f56a8e",
   "metadata": {},
   "outputs": [],
   "source": [
    "def median_with_distance(series, distance_fn):\n",
    "    return min(sum(distance_fn(x, y) for y in series) for x in range(min(series), max(series) + 1))"
   ]
  },
  {
   "cell_type": "markdown",
   "id": "835ee855",
   "metadata": {},
   "source": [
    "### Part 1"
   ]
  },
  {
   "cell_type": "code",
   "execution_count": null,
   "id": "4b679a72",
   "metadata": {},
   "outputs": [],
   "source": [
    "median_with_distance(positions, lambda x, y: abs(x - y))"
   ]
  },
  {
   "cell_type": "markdown",
   "id": "57e2e190",
   "metadata": {},
   "source": [
    "### Part 2"
   ]
  },
  {
   "cell_type": "code",
   "execution_count": null,
   "id": "366ab5a8",
   "metadata": {},
   "outputs": [],
   "source": [
    "def arithmetic_distance(x, y):\n",
    "    return (abs(x - y) + 1) * abs(x - y) // 2"
   ]
  },
  {
   "cell_type": "code",
   "execution_count": null,
   "id": "0972e38d",
   "metadata": {},
   "outputs": [],
   "source": [
    "median_with_distance(positions, arithmetic_distance)"
   ]
  }
 ],
 "metadata": {
  "kernelspec": {
   "display_name": "Python 3",
   "language": "python",
   "name": "python3"
  },
  "language_info": {
   "codemirror_mode": {
    "name": "ipython",
    "version": 3
   },
   "file_extension": ".py",
   "mimetype": "text/x-python",
   "name": "python",
   "nbconvert_exporter": "python",
   "pygments_lexer": "ipython3",
   "version": "3.7.9"
  }
 },
 "nbformat": 4,
 "nbformat_minor": 5
}
