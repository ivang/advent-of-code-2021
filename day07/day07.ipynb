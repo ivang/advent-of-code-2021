{
 "cells": [
  {
   "cell_type": "code",
   "execution_count": null,
   "id": "19531b27",
   "metadata": {},
   "outputs": [],
   "source": [
    "with open(\"input\", \"r\") as f:\n",
    "    positions = [int(position) for position in f.readline().strip().split(\",\")]"
   ]
  },
  {
   "cell_type": "markdown",
   "id": "835ee855",
   "metadata": {},
   "source": [
    "### Part 1"
   ]
  },
  {
   "cell_type": "code",
   "execution_count": null,
   "id": "4b679a72",
   "metadata": {},
   "outputs": [],
   "source": [
    "min(sum(abs(x - y) for y in positions) for x in range(min(positions), max(positions) + 1))"
   ]
  },
  {
   "cell_type": "markdown",
   "id": "57e2e190",
   "metadata": {},
   "source": [
    "### Part 2"
   ]
  },
  {
   "cell_type": "code",
   "execution_count": null,
   "id": "366ab5a8",
   "metadata": {},
   "outputs": [],
   "source": [
    "def arithmetic_distance(x, y):\n",
    "    return (abs(x - y) + 1) * abs(x - y) // 2"
   ]
  },
  {
   "cell_type": "code",
   "execution_count": null,
   "id": "0972e38d",
   "metadata": {},
   "outputs": [],
   "source": [
    "min(sum(arithmetic_distance(x, y) for y in positions) for x in range(min(positions), max(positions) + 1))"
   ]
  }
 ],
 "metadata": {
  "kernelspec": {
   "display_name": "Python 3",
   "language": "python",
   "name": "python3"
  },
  "language_info": {
   "codemirror_mode": {
    "name": "ipython",
    "version": 3
   },
   "file_extension": ".py",
   "mimetype": "text/x-python",
   "name": "python",
   "nbconvert_exporter": "python",
   "pygments_lexer": "ipython3",
   "version": "3.7.9"
  }
 },
 "nbformat": 4,
 "nbformat_minor": 5
}
