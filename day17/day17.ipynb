{
 "cells": [
  {
   "cell_type": "code",
   "execution_count": null,
   "id": "63548152",
   "metadata": {},
   "outputs": [],
   "source": [
    "from math import floor"
   ]
  },
  {
   "cell_type": "code",
   "execution_count": null,
   "id": "2429fb76",
   "metadata": {},
   "outputs": [],
   "source": [
    "with open(\"input\", \"r\") as f:\n",
    "    line = f.readline()\n",
    "\n",
    "target_bounds = [[int(x) for x in coord.split(\"=\")[1].strip(\",\").split(\"..\")]\n",
    "                 for coord in line.split()[2:]]"
   ]
  },
  {
   "cell_type": "markdown",
   "id": "81a62528",
   "metadata": {},
   "source": [
    "### Part 1"
   ]
  },
  {
   "cell_type": "code",
   "execution_count": null,
   "id": "0dc15b71",
   "metadata": {},
   "outputs": [],
   "source": [
    "max_y = abs(target_bounds[1][0]) - 1\n",
    "\n",
    "sum(range(max_y + 1))"
   ]
  },
  {
   "cell_type": "markdown",
   "id": "325e7005",
   "metadata": {},
   "source": [
    "### Part 2"
   ]
  },
  {
   "cell_type": "code",
   "execution_count": null,
   "id": "828e2046",
   "metadata": {},
   "outputs": [],
   "source": [
    "min_y = target_bounds[1][0]\n",
    "\n",
    "d = target_bounds[0][0]\n",
    "\n",
    "min_x = floor((1 + (1 + 8 * d)**0.5) * 0.5)\n",
    "max_x = target_bounds[0][1]"
   ]
  },
  {
   "cell_type": "code",
   "execution_count": null,
   "id": "bcb4835d",
   "metadata": {},
   "outputs": [],
   "source": [
    "def is_within_bounds(point, bounds):\n",
    "    x, y = point\n",
    "    x_bounds, y_bounds = bounds\n",
    "    return x_bounds[0] <= x <= x_bounds[1] and y_bounds[0] <= y <= y_bounds[1]"
   ]
  },
  {
   "cell_type": "code",
   "execution_count": null,
   "id": "1a4aa6d6",
   "metadata": {},
   "outputs": [],
   "source": [
    "def make_step(x0, y0, dx, dy, target_bounds):\n",
    "    \n",
    "    if is_within_bounds((x0, y0), target_bounds):\n",
    "        return 1\n",
    "    if x0 + dx > target_bounds[0][1] or y0 + dy < target_bounds[1][0]:\n",
    "        return 0\n",
    "    \n",
    "    return make_step(x0 + dx, y0 + dy, max(dx - 1, 0), dy - 1, target_bounds)"
   ]
  },
  {
   "cell_type": "code",
   "execution_count": null,
   "id": "f989804c",
   "metadata": {},
   "outputs": [],
   "source": [
    "sum(make_step(0, 0, x, y, target_bounds)\n",
    "    for x in range(min_x, max_x + 1) \n",
    "    for y in range(min_y, max_y + 1))"
   ]
  }
 ],
 "metadata": {
  "kernelspec": {
   "display_name": "Python 3 (ipykernel)",
   "language": "python",
   "name": "python3"
  },
  "language_info": {
   "codemirror_mode": {
    "name": "ipython",
    "version": 3
   },
   "file_extension": ".py",
   "mimetype": "text/x-python",
   "name": "python",
   "nbconvert_exporter": "python",
   "pygments_lexer": "ipython3",
   "version": "3.9.7"
  }
 },
 "nbformat": 4,
 "nbformat_minor": 5
}
