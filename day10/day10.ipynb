{
 "cells": [
  {
   "cell_type": "code",
   "execution_count": null,
   "id": "3d76d953",
   "metadata": {},
   "outputs": [],
   "source": [
    "with open(\"input\", \"r\") as f:\n",
    "    lines = list(map(str.strip, f.readlines()))"
   ]
  },
  {
   "cell_type": "code",
   "execution_count": null,
   "id": "2cbeae26",
   "metadata": {},
   "outputs": [],
   "source": [
    "closers = {\n",
    "    \")\": 3,\n",
    "    \"]\": 57,\n",
    "    \"}\": 1197,\n",
    "    \">\": 25137\n",
    "}\n",
    "\n",
    "openers = {\n",
    "    \"(\": 1,\n",
    "    \"[\": 2,\n",
    "    \"{\": 3,\n",
    "    \"<\": 4\n",
    "}\n",
    "\n",
    "inv_braces = {\n",
    "    ')': '(',\n",
    "    ']': '[',\n",
    "    '}': '{',\n",
    "    '>': '<'\n",
    "}"
   ]
  },
  {
   "cell_type": "code",
   "execution_count": null,
   "id": "e02c90be",
   "metadata": {},
   "outputs": [],
   "source": [
    "def get_syntax_points(line):\n",
    "    opened = []\n",
    "    for bracket in line:\n",
    "        if bracket in openers:\n",
    "            opened.append(bracket)\n",
    "        if bracket in closers:\n",
    "            popped = opened.pop()\n",
    "            if popped != inv_braces[bracket]:\n",
    "                return closers[bracket]\n",
    "    return 0"
   ]
  },
  {
   "cell_type": "code",
   "execution_count": null,
   "id": "cdb175e2",
   "metadata": {},
   "outputs": [],
   "source": [
    "sum(get_syntax_points(line) for line in lines)"
   ]
  },
  {
   "cell_type": "code",
   "execution_count": null,
   "id": "524dc917",
   "metadata": {},
   "outputs": [],
   "source": [
    "incomplete_lines = [line for line in lines if get_syntax_points(line) == 0]"
   ]
  },
  {
   "cell_type": "code",
   "execution_count": null,
   "id": "ee60b5d2",
   "metadata": {},
   "outputs": [],
   "source": [
    "def find_missing_braces(line):\n",
    "    opened = []\n",
    "    for bracket in line:\n",
    "        if bracket in openers:\n",
    "            opened.append(bracket)\n",
    "        if bracket in closers:\n",
    "            popped = opened.pop()\n",
    "    return opened"
   ]
  },
  {
   "cell_type": "code",
   "execution_count": null,
   "id": "d5cf2a41",
   "metadata": {},
   "outputs": [],
   "source": [
    "from functools import reduce\n",
    "from numpy import median"
   ]
  },
  {
   "cell_type": "code",
   "execution_count": null,
   "id": "0278ce4b",
   "metadata": {},
   "outputs": [],
   "source": [
    "int(median(list(reduce(lambda x, y: x * 5 + y,\n",
    "                       [openers[b] for b in find_missing_braces(line)[::-1]])\n",
    "                for line in incomplete_lines)))"
   ]
  }
 ],
 "metadata": {
  "kernelspec": {
   "display_name": "Python 3",
   "language": "python",
   "name": "python3"
  },
  "language_info": {
   "codemirror_mode": {
    "name": "ipython",
    "version": 3
   },
   "file_extension": ".py",
   "mimetype": "text/x-python",
   "name": "python",
   "nbconvert_exporter": "python",
   "pygments_lexer": "ipython3",
   "version": "3.7.9"
  }
 },
 "nbformat": 4,
 "nbformat_minor": 5
}
