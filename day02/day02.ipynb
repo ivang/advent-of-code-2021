{
 "cells": [
  {
   "cell_type": "code",
   "execution_count": null,
   "id": "5103ebe2",
   "metadata": {},
   "outputs": [],
   "source": [
    "import pandas as pd"
   ]
  },
  {
   "cell_type": "code",
   "execution_count": null,
   "id": "d8c531a3",
   "metadata": {},
   "outputs": [],
   "source": [
    "df = pd.read_csv(\"input\", sep=\" \", header=None, names=[\"command\", \"n\"])"
   ]
  },
  {
   "cell_type": "markdown",
   "id": "26eb8f7d",
   "metadata": {},
   "source": [
    "### Part 1"
   ]
  },
  {
   "cell_type": "code",
   "execution_count": null,
   "id": "9fb84f26",
   "metadata": {},
   "outputs": [],
   "source": [
    "forward = df[df[\"command\"]==\"forward\"][\"n\"].sum()\n",
    "depth = df[df[\"command\"]==\"down\"][\"n\"].sum() - df[df[\"command\"]==\"up\"][\"n\"].sum()\n",
    "\n",
    "forward * depth"
   ]
  },
  {
   "cell_type": "markdown",
   "id": "890b46db",
   "metadata": {},
   "source": [
    "### Part 2"
   ]
  },
  {
   "cell_type": "code",
   "execution_count": null,
   "id": "4a5eea10",
   "metadata": {},
   "outputs": [],
   "source": [
    "cmds = [(c, n) for c, n in df.iloc]\n",
    "forward = 0\n",
    "d_forward = 0\n",
    "aim = 0\n",
    "depth = 0\n",
    "\n",
    "for c, n in cmds:\n",
    "    if c == \"forward\":\n",
    "        forward += n\n",
    "        d_forward += n\n",
    "        depth += aim * d_forward\n",
    "    else:\n",
    "        if c == \"up\":\n",
    "            aim -= n\n",
    "        else:\n",
    "            aim += n\n",
    "    d_forward = 0\n",
    "\n",
    "forward * depth"
   ]
  }
 ],
 "metadata": {
  "kernelspec": {
   "display_name": "Python 3",
   "language": "python",
   "name": "python3"
  },
  "language_info": {
   "codemirror_mode": {
    "name": "ipython",
    "version": 3
   },
   "file_extension": ".py",
   "mimetype": "text/x-python",
   "name": "python",
   "nbconvert_exporter": "python",
   "pygments_lexer": "ipython3",
   "version": "3.7.9"
  }
 },
 "nbformat": 4,
 "nbformat_minor": 5
}
