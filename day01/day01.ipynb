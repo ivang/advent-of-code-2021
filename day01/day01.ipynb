{
 "cells": [
  {
   "cell_type": "code",
   "execution_count": null,
   "id": "weird-wrapping",
   "metadata": {},
   "outputs": [],
   "source": [
    "with open('input', 'r') as f:\n",
    "    depths = list(map(int, map(str.strip, f.readlines())))"
   ]
  },
  {
   "cell_type": "markdown",
   "id": "4012a5ad",
   "metadata": {},
   "source": [
    "### Part 1"
   ]
  },
  {
   "cell_type": "code",
   "execution_count": null,
   "id": "aa38a881",
   "metadata": {},
   "outputs": [],
   "source": [
    "sum(a < b for a, b in zip(depths, depths[1:]))"
   ]
  },
  {
   "cell_type": "markdown",
   "id": "81ab074f",
   "metadata": {},
   "source": [
    "### Part 2"
   ]
  },
  {
   "cell_type": "code",
   "execution_count": null,
   "id": "e040435f",
   "metadata": {},
   "outputs": [],
   "source": [
    "sum(sum(depths[i:i+3]) > sum(depths[i-1:i+2]) for i in range(1, len(depths)))"
   ]
  }
 ],
 "metadata": {
  "kernelspec": {
   "display_name": "Python 3",
   "language": "python",
   "name": "python3"
  },
  "language_info": {
   "codemirror_mode": {
    "name": "ipython",
    "version": 3
   },
   "file_extension": ".py",
   "mimetype": "text/x-python",
   "name": "python",
   "nbconvert_exporter": "python",
   "pygments_lexer": "ipython3",
   "version": "3.7.9"
  }
 },
 "nbformat": 4,
 "nbformat_minor": 5
}
